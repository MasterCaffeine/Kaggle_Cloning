{
 "cells": [
  {
   "cell_type": "code",
   "execution_count": 1,
   "id": "3a863eaf",
   "metadata": {},
   "outputs": [],
   "source": [
    "import pandas as pd\n",
    "import numpy\n",
    "import os\n",
    "\n",
    "import matplotlib.pyplot as plt\n",
    "import seaborn as sns\n",
    "from datetime import datetime\n",
    "from tqdm import tqdm\n",
    "tqdm.pandas()\n",
    "\n",
    "import warnings\n",
    "warnings.filterwarnings('ignore')"
   ]
  },
  {
   "cell_type": "code",
   "execution_count": 2,
   "id": "129e4d66",
   "metadata": {},
   "outputs": [],
   "source": [
    "goodreads_train = pd.read_csv(\"goodreads_train.csv\") \n",
    "goodreads_test = pd.read_csv(\"goodreads_test.csv\")"
   ]
  },
  {
   "cell_type": "code",
   "execution_count": 3,
   "id": "d54fd922",
   "metadata": {},
   "outputs": [
    {
     "data": {
      "text/plain": [
       "(900000, 11)"
      ]
     },
     "execution_count": 3,
     "metadata": {},
     "output_type": "execute_result"
    }
   ],
   "source": [
    "goodreads_train.shape"
   ]
  },
  {
   "cell_type": "code",
   "execution_count": 4,
   "id": "d7719e2a",
   "metadata": {},
   "outputs": [
    {
     "data": {
      "text/plain": [
       "(478033, 10)"
      ]
     },
     "execution_count": 4,
     "metadata": {},
     "output_type": "execute_result"
    }
   ],
   "source": [
    "goodreads_test.shape"
   ]
  },
  {
   "cell_type": "code",
   "execution_count": 5,
   "id": "4a872e5f",
   "metadata": {},
   "outputs": [
    {
     "data": {
      "text/html": [
       "<div>\n",
       "<style scoped>\n",
       "    .dataframe tbody tr th:only-of-type {\n",
       "        vertical-align: middle;\n",
       "    }\n",
       "\n",
       "    .dataframe tbody tr th {\n",
       "        vertical-align: top;\n",
       "    }\n",
       "\n",
       "    .dataframe thead th {\n",
       "        text-align: right;\n",
       "    }\n",
       "</style>\n",
       "<table border=\"1\" class=\"dataframe\">\n",
       "  <thead>\n",
       "    <tr style=\"text-align: right;\">\n",
       "      <th></th>\n",
       "      <th>user_id</th>\n",
       "      <th>book_id</th>\n",
       "      <th>review_id</th>\n",
       "      <th>rating</th>\n",
       "      <th>review_text</th>\n",
       "      <th>date_added</th>\n",
       "      <th>date_updated</th>\n",
       "      <th>read_at</th>\n",
       "      <th>started_at</th>\n",
       "      <th>n_votes</th>\n",
       "      <th>n_comments</th>\n",
       "    </tr>\n",
       "  </thead>\n",
       "  <tbody>\n",
       "    <tr>\n",
       "      <th>0</th>\n",
       "      <td>8842281e1d1347389f2ab93d60773d4d</td>\n",
       "      <td>18245960</td>\n",
       "      <td>dfdbb7b0eb5a7e4c26d59a937e2e5feb</td>\n",
       "      <td>5</td>\n",
       "      <td>This is a special book. It started slow for ab...</td>\n",
       "      <td>Sun Jul 30 07:44:10 -0700 2017</td>\n",
       "      <td>Wed Aug 30 00:00:26 -0700 2017</td>\n",
       "      <td>Sat Aug 26 12:05:52 -0700 2017</td>\n",
       "      <td>Tue Aug 15 13:23:18 -0700 2017</td>\n",
       "      <td>28</td>\n",
       "      <td>1</td>\n",
       "    </tr>\n",
       "    <tr>\n",
       "      <th>1</th>\n",
       "      <td>8842281e1d1347389f2ab93d60773d4d</td>\n",
       "      <td>16981</td>\n",
       "      <td>a5d2c3628987712d0e05c4f90798eb67</td>\n",
       "      <td>3</td>\n",
       "      <td>Recommended by Don Katz. Avail for free in Dec...</td>\n",
       "      <td>Mon Dec 05 10:46:44 -0800 2016</td>\n",
       "      <td>Wed Mar 22 11:37:04 -0700 2017</td>\n",
       "      <td>NaN</td>\n",
       "      <td>NaN</td>\n",
       "      <td>1</td>\n",
       "      <td>0</td>\n",
       "    </tr>\n",
       "    <tr>\n",
       "      <th>2</th>\n",
       "      <td>8842281e1d1347389f2ab93d60773d4d</td>\n",
       "      <td>28684704</td>\n",
       "      <td>2ede853b14dc4583f96cf5d120af636f</td>\n",
       "      <td>3</td>\n",
       "      <td>A fun, fast paced science fiction thriller. I ...</td>\n",
       "      <td>Tue Nov 15 11:29:22 -0800 2016</td>\n",
       "      <td>Mon Mar 20 23:40:27 -0700 2017</td>\n",
       "      <td>Sat Mar 18 23:22:42 -0700 2017</td>\n",
       "      <td>Fri Mar 17 23:45:40 -0700 2017</td>\n",
       "      <td>22</td>\n",
       "      <td>0</td>\n",
       "    </tr>\n",
       "    <tr>\n",
       "      <th>3</th>\n",
       "      <td>8842281e1d1347389f2ab93d60773d4d</td>\n",
       "      <td>27161156</td>\n",
       "      <td>ced5675e55cd9d38a524743f5c40996e</td>\n",
       "      <td>0</td>\n",
       "      <td>Recommended reading to understand what is goin...</td>\n",
       "      <td>Wed Nov 09 17:37:04 -0800 2016</td>\n",
       "      <td>Wed Nov 09 17:38:20 -0800 2016</td>\n",
       "      <td>NaN</td>\n",
       "      <td>NaN</td>\n",
       "      <td>5</td>\n",
       "      <td>1</td>\n",
       "    </tr>\n",
       "    <tr>\n",
       "      <th>4</th>\n",
       "      <td>8842281e1d1347389f2ab93d60773d4d</td>\n",
       "      <td>25884323</td>\n",
       "      <td>332732725863131279a8e345b63ac33e</td>\n",
       "      <td>4</td>\n",
       "      <td>I really enjoyed this book, and there is a lot...</td>\n",
       "      <td>Mon Apr 25 09:31:23 -0700 2016</td>\n",
       "      <td>Mon Apr 25 09:31:23 -0700 2016</td>\n",
       "      <td>Sun Jun 26 00:00:00 -0700 2016</td>\n",
       "      <td>Sat May 28 00:00:00 -0700 2016</td>\n",
       "      <td>9</td>\n",
       "      <td>1</td>\n",
       "    </tr>\n",
       "    <tr>\n",
       "      <th>5</th>\n",
       "      <td>8842281e1d1347389f2ab93d60773d4d</td>\n",
       "      <td>19398490</td>\n",
       "      <td>ea4a220b10e6b5c796dae0e3b970aff1</td>\n",
       "      <td>4</td>\n",
       "      <td>A beautiful story. It is rare to encounter a b...</td>\n",
       "      <td>Sun Jan 03 21:20:46 -0800 2016</td>\n",
       "      <td>Tue Sep 20 23:30:15 -0700 2016</td>\n",
       "      <td>Tue Sep 13 11:51:51 -0700 2016</td>\n",
       "      <td>Sat Aug 20 07:03:03 -0700 2016</td>\n",
       "      <td>35</td>\n",
       "      <td>5</td>\n",
       "    </tr>\n",
       "    <tr>\n",
       "      <th>6</th>\n",
       "      <td>8842281e1d1347389f2ab93d60773d4d</td>\n",
       "      <td>22318578</td>\n",
       "      <td>5fe9882bfe4b0520a322820c4c55747d</td>\n",
       "      <td>5</td>\n",
       "      <td>5 stars for giving me a better framework for h...</td>\n",
       "      <td>Sun Jun 07 12:50:13 -0700 2015</td>\n",
       "      <td>Wed Mar 22 11:36:58 -0700 2017</td>\n",
       "      <td>Sun Aug 09 00:00:00 -0700 2015</td>\n",
       "      <td>Sun Jun 07 00:00:00 -0700 2015</td>\n",
       "      <td>24</td>\n",
       "      <td>3</td>\n",
       "    </tr>\n",
       "    <tr>\n",
       "      <th>7</th>\n",
       "      <td>8842281e1d1347389f2ab93d60773d4d</td>\n",
       "      <td>24189224</td>\n",
       "      <td>dbc01e2438df7a87ee3dc16ee23a53e5</td>\n",
       "      <td>0</td>\n",
       "      <td>Numerous people in publishing have told me thi...</td>\n",
       "      <td>Fri May 29 17:48:57 -0700 2015</td>\n",
       "      <td>Fri May 29 17:49:40 -0700 2015</td>\n",
       "      <td>NaN</td>\n",
       "      <td>NaN</td>\n",
       "      <td>11</td>\n",
       "      <td>5</td>\n",
       "    </tr>\n",
       "    <tr>\n",
       "      <th>8</th>\n",
       "      <td>8842281e1d1347389f2ab93d60773d4d</td>\n",
       "      <td>22551730</td>\n",
       "      <td>754710070f38e1c59a45f6a85473b836</td>\n",
       "      <td>4</td>\n",
       "      <td>Another hard to put down nonfiction book from ...</td>\n",
       "      <td>Thu May 07 13:59:32 -0700 2015</td>\n",
       "      <td>Wed Dec 14 12:30:43 -0800 2016</td>\n",
       "      <td>Sat Jul 11 00:00:00 -0700 2015</td>\n",
       "      <td>Wed Jun 24 00:00:00 -0700 2015</td>\n",
       "      <td>20</td>\n",
       "      <td>6</td>\n",
       "    </tr>\n",
       "    <tr>\n",
       "      <th>9</th>\n",
       "      <td>8842281e1d1347389f2ab93d60773d4d</td>\n",
       "      <td>22816087</td>\n",
       "      <td>d11954e6e9e9ddf52aed41d83ce43fa6</td>\n",
       "      <td>5</td>\n",
       "      <td>I love Stephenson - and this was another hit -...</td>\n",
       "      <td>Wed Apr 29 10:56:44 -0700 2015</td>\n",
       "      <td>Wed Dec 14 12:30:43 -0800 2016</td>\n",
       "      <td>Wed Nov 04 00:00:00 -0800 2015</td>\n",
       "      <td>Sun Sep 27 00:00:00 -0700 2015</td>\n",
       "      <td>40</td>\n",
       "      <td>6</td>\n",
       "    </tr>\n",
       "  </tbody>\n",
       "</table>\n",
       "</div>"
      ],
      "text/plain": [
       "                            user_id   book_id  \\\n",
       "0  8842281e1d1347389f2ab93d60773d4d  18245960   \n",
       "1  8842281e1d1347389f2ab93d60773d4d     16981   \n",
       "2  8842281e1d1347389f2ab93d60773d4d  28684704   \n",
       "3  8842281e1d1347389f2ab93d60773d4d  27161156   \n",
       "4  8842281e1d1347389f2ab93d60773d4d  25884323   \n",
       "5  8842281e1d1347389f2ab93d60773d4d  19398490   \n",
       "6  8842281e1d1347389f2ab93d60773d4d  22318578   \n",
       "7  8842281e1d1347389f2ab93d60773d4d  24189224   \n",
       "8  8842281e1d1347389f2ab93d60773d4d  22551730   \n",
       "9  8842281e1d1347389f2ab93d60773d4d  22816087   \n",
       "\n",
       "                          review_id  rating  \\\n",
       "0  dfdbb7b0eb5a7e4c26d59a937e2e5feb       5   \n",
       "1  a5d2c3628987712d0e05c4f90798eb67       3   \n",
       "2  2ede853b14dc4583f96cf5d120af636f       3   \n",
       "3  ced5675e55cd9d38a524743f5c40996e       0   \n",
       "4  332732725863131279a8e345b63ac33e       4   \n",
       "5  ea4a220b10e6b5c796dae0e3b970aff1       4   \n",
       "6  5fe9882bfe4b0520a322820c4c55747d       5   \n",
       "7  dbc01e2438df7a87ee3dc16ee23a53e5       0   \n",
       "8  754710070f38e1c59a45f6a85473b836       4   \n",
       "9  d11954e6e9e9ddf52aed41d83ce43fa6       5   \n",
       "\n",
       "                                         review_text  \\\n",
       "0  This is a special book. It started slow for ab...   \n",
       "1  Recommended by Don Katz. Avail for free in Dec...   \n",
       "2  A fun, fast paced science fiction thriller. I ...   \n",
       "3  Recommended reading to understand what is goin...   \n",
       "4  I really enjoyed this book, and there is a lot...   \n",
       "5  A beautiful story. It is rare to encounter a b...   \n",
       "6  5 stars for giving me a better framework for h...   \n",
       "7  Numerous people in publishing have told me thi...   \n",
       "8  Another hard to put down nonfiction book from ...   \n",
       "9  I love Stephenson - and this was another hit -...   \n",
       "\n",
       "                       date_added                    date_updated  \\\n",
       "0  Sun Jul 30 07:44:10 -0700 2017  Wed Aug 30 00:00:26 -0700 2017   \n",
       "1  Mon Dec 05 10:46:44 -0800 2016  Wed Mar 22 11:37:04 -0700 2017   \n",
       "2  Tue Nov 15 11:29:22 -0800 2016  Mon Mar 20 23:40:27 -0700 2017   \n",
       "3  Wed Nov 09 17:37:04 -0800 2016  Wed Nov 09 17:38:20 -0800 2016   \n",
       "4  Mon Apr 25 09:31:23 -0700 2016  Mon Apr 25 09:31:23 -0700 2016   \n",
       "5  Sun Jan 03 21:20:46 -0800 2016  Tue Sep 20 23:30:15 -0700 2016   \n",
       "6  Sun Jun 07 12:50:13 -0700 2015  Wed Mar 22 11:36:58 -0700 2017   \n",
       "7  Fri May 29 17:48:57 -0700 2015  Fri May 29 17:49:40 -0700 2015   \n",
       "8  Thu May 07 13:59:32 -0700 2015  Wed Dec 14 12:30:43 -0800 2016   \n",
       "9  Wed Apr 29 10:56:44 -0700 2015  Wed Dec 14 12:30:43 -0800 2016   \n",
       "\n",
       "                          read_at                      started_at  n_votes  \\\n",
       "0  Sat Aug 26 12:05:52 -0700 2017  Tue Aug 15 13:23:18 -0700 2017       28   \n",
       "1                             NaN                             NaN        1   \n",
       "2  Sat Mar 18 23:22:42 -0700 2017  Fri Mar 17 23:45:40 -0700 2017       22   \n",
       "3                             NaN                             NaN        5   \n",
       "4  Sun Jun 26 00:00:00 -0700 2016  Sat May 28 00:00:00 -0700 2016        9   \n",
       "5  Tue Sep 13 11:51:51 -0700 2016  Sat Aug 20 07:03:03 -0700 2016       35   \n",
       "6  Sun Aug 09 00:00:00 -0700 2015  Sun Jun 07 00:00:00 -0700 2015       24   \n",
       "7                             NaN                             NaN       11   \n",
       "8  Sat Jul 11 00:00:00 -0700 2015  Wed Jun 24 00:00:00 -0700 2015       20   \n",
       "9  Wed Nov 04 00:00:00 -0800 2015  Sun Sep 27 00:00:00 -0700 2015       40   \n",
       "\n",
       "   n_comments  \n",
       "0           1  \n",
       "1           0  \n",
       "2           0  \n",
       "3           1  \n",
       "4           1  \n",
       "5           5  \n",
       "6           3  \n",
       "7           5  \n",
       "8           6  \n",
       "9           6  "
      ]
     },
     "execution_count": 5,
     "metadata": {},
     "output_type": "execute_result"
    }
   ],
   "source": [
    "goodreads_train.head(10)"
   ]
  },
  {
   "cell_type": "code",
   "execution_count": 6,
   "id": "fd2cab8d",
   "metadata": {},
   "outputs": [],
   "source": [
    "goodreads_train.set_index('review_id', inplace=True)\n",
    "goodreads_test.set_index('review_id', inplace=True)"
   ]
  },
  {
   "cell_type": "code",
   "execution_count": 7,
   "id": "a0619874",
   "metadata": {},
   "outputs": [
    {
     "data": {
      "text/plain": [
       "(1378033, 9)"
      ]
     },
     "execution_count": 7,
     "metadata": {},
     "output_type": "execute_result"
    }
   ],
   "source": [
    "books = pd.concat([goodreads_train.drop('rating', axis=1), goodreads_test], axis=0)\n",
    "books_rates = goodreads_train['rating']\n",
    "\n",
    "books.shape"
   ]
  },
  {
   "cell_type": "code",
   "execution_count": 8,
   "id": "fe88f3eb",
   "metadata": {},
   "outputs": [
    {
     "data": {
      "text/html": [
       "<div>\n",
       "<style scoped>\n",
       "    .dataframe tbody tr th:only-of-type {\n",
       "        vertical-align: middle;\n",
       "    }\n",
       "\n",
       "    .dataframe tbody tr th {\n",
       "        vertical-align: top;\n",
       "    }\n",
       "\n",
       "    .dataframe thead th {\n",
       "        text-align: right;\n",
       "    }\n",
       "</style>\n",
       "<table border=\"1\" class=\"dataframe\">\n",
       "  <thead>\n",
       "    <tr style=\"text-align: right;\">\n",
       "      <th></th>\n",
       "      <th>user_id</th>\n",
       "      <th>book_id</th>\n",
       "      <th>review_text</th>\n",
       "      <th>date_added</th>\n",
       "      <th>date_updated</th>\n",
       "      <th>read_at</th>\n",
       "      <th>started_at</th>\n",
       "      <th>n_votes</th>\n",
       "      <th>n_comments</th>\n",
       "    </tr>\n",
       "    <tr>\n",
       "      <th>review_id</th>\n",
       "      <th></th>\n",
       "      <th></th>\n",
       "      <th></th>\n",
       "      <th></th>\n",
       "      <th></th>\n",
       "      <th></th>\n",
       "      <th></th>\n",
       "      <th></th>\n",
       "      <th></th>\n",
       "    </tr>\n",
       "  </thead>\n",
       "  <tbody>\n",
       "    <tr>\n",
       "      <th>dfdbb7b0eb5a7e4c26d59a937e2e5feb</th>\n",
       "      <td>8842281e1d1347389f2ab93d60773d4d</td>\n",
       "      <td>18245960</td>\n",
       "      <td>This is a special book. It started slow for ab...</td>\n",
       "      <td>Sun Jul 30 07:44:10 -0700 2017</td>\n",
       "      <td>Wed Aug 30 00:00:26 -0700 2017</td>\n",
       "      <td>Sat Aug 26 12:05:52 -0700 2017</td>\n",
       "      <td>Tue Aug 15 13:23:18 -0700 2017</td>\n",
       "      <td>28</td>\n",
       "      <td>1</td>\n",
       "    </tr>\n",
       "    <tr>\n",
       "      <th>a5d2c3628987712d0e05c4f90798eb67</th>\n",
       "      <td>8842281e1d1347389f2ab93d60773d4d</td>\n",
       "      <td>16981</td>\n",
       "      <td>Recommended by Don Katz. Avail for free in Dec...</td>\n",
       "      <td>Mon Dec 05 10:46:44 -0800 2016</td>\n",
       "      <td>Wed Mar 22 11:37:04 -0700 2017</td>\n",
       "      <td>NaN</td>\n",
       "      <td>NaN</td>\n",
       "      <td>1</td>\n",
       "      <td>0</td>\n",
       "    </tr>\n",
       "    <tr>\n",
       "      <th>2ede853b14dc4583f96cf5d120af636f</th>\n",
       "      <td>8842281e1d1347389f2ab93d60773d4d</td>\n",
       "      <td>28684704</td>\n",
       "      <td>A fun, fast paced science fiction thriller. I ...</td>\n",
       "      <td>Tue Nov 15 11:29:22 -0800 2016</td>\n",
       "      <td>Mon Mar 20 23:40:27 -0700 2017</td>\n",
       "      <td>Sat Mar 18 23:22:42 -0700 2017</td>\n",
       "      <td>Fri Mar 17 23:45:40 -0700 2017</td>\n",
       "      <td>22</td>\n",
       "      <td>0</td>\n",
       "    </tr>\n",
       "    <tr>\n",
       "      <th>ced5675e55cd9d38a524743f5c40996e</th>\n",
       "      <td>8842281e1d1347389f2ab93d60773d4d</td>\n",
       "      <td>27161156</td>\n",
       "      <td>Recommended reading to understand what is goin...</td>\n",
       "      <td>Wed Nov 09 17:37:04 -0800 2016</td>\n",
       "      <td>Wed Nov 09 17:38:20 -0800 2016</td>\n",
       "      <td>NaN</td>\n",
       "      <td>NaN</td>\n",
       "      <td>5</td>\n",
       "      <td>1</td>\n",
       "    </tr>\n",
       "    <tr>\n",
       "      <th>332732725863131279a8e345b63ac33e</th>\n",
       "      <td>8842281e1d1347389f2ab93d60773d4d</td>\n",
       "      <td>25884323</td>\n",
       "      <td>I really enjoyed this book, and there is a lot...</td>\n",
       "      <td>Mon Apr 25 09:31:23 -0700 2016</td>\n",
       "      <td>Mon Apr 25 09:31:23 -0700 2016</td>\n",
       "      <td>Sun Jun 26 00:00:00 -0700 2016</td>\n",
       "      <td>Sat May 28 00:00:00 -0700 2016</td>\n",
       "      <td>9</td>\n",
       "      <td>1</td>\n",
       "    </tr>\n",
       "    <tr>\n",
       "      <th>ea4a220b10e6b5c796dae0e3b970aff1</th>\n",
       "      <td>8842281e1d1347389f2ab93d60773d4d</td>\n",
       "      <td>19398490</td>\n",
       "      <td>A beautiful story. It is rare to encounter a b...</td>\n",
       "      <td>Sun Jan 03 21:20:46 -0800 2016</td>\n",
       "      <td>Tue Sep 20 23:30:15 -0700 2016</td>\n",
       "      <td>Tue Sep 13 11:51:51 -0700 2016</td>\n",
       "      <td>Sat Aug 20 07:03:03 -0700 2016</td>\n",
       "      <td>35</td>\n",
       "      <td>5</td>\n",
       "    </tr>\n",
       "    <tr>\n",
       "      <th>5fe9882bfe4b0520a322820c4c55747d</th>\n",
       "      <td>8842281e1d1347389f2ab93d60773d4d</td>\n",
       "      <td>22318578</td>\n",
       "      <td>5 stars for giving me a better framework for h...</td>\n",
       "      <td>Sun Jun 07 12:50:13 -0700 2015</td>\n",
       "      <td>Wed Mar 22 11:36:58 -0700 2017</td>\n",
       "      <td>Sun Aug 09 00:00:00 -0700 2015</td>\n",
       "      <td>Sun Jun 07 00:00:00 -0700 2015</td>\n",
       "      <td>24</td>\n",
       "      <td>3</td>\n",
       "    </tr>\n",
       "    <tr>\n",
       "      <th>dbc01e2438df7a87ee3dc16ee23a53e5</th>\n",
       "      <td>8842281e1d1347389f2ab93d60773d4d</td>\n",
       "      <td>24189224</td>\n",
       "      <td>Numerous people in publishing have told me thi...</td>\n",
       "      <td>Fri May 29 17:48:57 -0700 2015</td>\n",
       "      <td>Fri May 29 17:49:40 -0700 2015</td>\n",
       "      <td>NaN</td>\n",
       "      <td>NaN</td>\n",
       "      <td>11</td>\n",
       "      <td>5</td>\n",
       "    </tr>\n",
       "    <tr>\n",
       "      <th>754710070f38e1c59a45f6a85473b836</th>\n",
       "      <td>8842281e1d1347389f2ab93d60773d4d</td>\n",
       "      <td>22551730</td>\n",
       "      <td>Another hard to put down nonfiction book from ...</td>\n",
       "      <td>Thu May 07 13:59:32 -0700 2015</td>\n",
       "      <td>Wed Dec 14 12:30:43 -0800 2016</td>\n",
       "      <td>Sat Jul 11 00:00:00 -0700 2015</td>\n",
       "      <td>Wed Jun 24 00:00:00 -0700 2015</td>\n",
       "      <td>20</td>\n",
       "      <td>6</td>\n",
       "    </tr>\n",
       "    <tr>\n",
       "      <th>d11954e6e9e9ddf52aed41d83ce43fa6</th>\n",
       "      <td>8842281e1d1347389f2ab93d60773d4d</td>\n",
       "      <td>22816087</td>\n",
       "      <td>I love Stephenson - and this was another hit -...</td>\n",
       "      <td>Wed Apr 29 10:56:44 -0700 2015</td>\n",
       "      <td>Wed Dec 14 12:30:43 -0800 2016</td>\n",
       "      <td>Wed Nov 04 00:00:00 -0800 2015</td>\n",
       "      <td>Sun Sep 27 00:00:00 -0700 2015</td>\n",
       "      <td>40</td>\n",
       "      <td>6</td>\n",
       "    </tr>\n",
       "  </tbody>\n",
       "</table>\n",
       "</div>"
      ],
      "text/plain": [
       "                                                           user_id   book_id  \\\n",
       "review_id                                                                      \n",
       "dfdbb7b0eb5a7e4c26d59a937e2e5feb  8842281e1d1347389f2ab93d60773d4d  18245960   \n",
       "a5d2c3628987712d0e05c4f90798eb67  8842281e1d1347389f2ab93d60773d4d     16981   \n",
       "2ede853b14dc4583f96cf5d120af636f  8842281e1d1347389f2ab93d60773d4d  28684704   \n",
       "ced5675e55cd9d38a524743f5c40996e  8842281e1d1347389f2ab93d60773d4d  27161156   \n",
       "332732725863131279a8e345b63ac33e  8842281e1d1347389f2ab93d60773d4d  25884323   \n",
       "ea4a220b10e6b5c796dae0e3b970aff1  8842281e1d1347389f2ab93d60773d4d  19398490   \n",
       "5fe9882bfe4b0520a322820c4c55747d  8842281e1d1347389f2ab93d60773d4d  22318578   \n",
       "dbc01e2438df7a87ee3dc16ee23a53e5  8842281e1d1347389f2ab93d60773d4d  24189224   \n",
       "754710070f38e1c59a45f6a85473b836  8842281e1d1347389f2ab93d60773d4d  22551730   \n",
       "d11954e6e9e9ddf52aed41d83ce43fa6  8842281e1d1347389f2ab93d60773d4d  22816087   \n",
       "\n",
       "                                                                        review_text  \\\n",
       "review_id                                                                             \n",
       "dfdbb7b0eb5a7e4c26d59a937e2e5feb  This is a special book. It started slow for ab...   \n",
       "a5d2c3628987712d0e05c4f90798eb67  Recommended by Don Katz. Avail for free in Dec...   \n",
       "2ede853b14dc4583f96cf5d120af636f  A fun, fast paced science fiction thriller. I ...   \n",
       "ced5675e55cd9d38a524743f5c40996e  Recommended reading to understand what is goin...   \n",
       "332732725863131279a8e345b63ac33e  I really enjoyed this book, and there is a lot...   \n",
       "ea4a220b10e6b5c796dae0e3b970aff1  A beautiful story. It is rare to encounter a b...   \n",
       "5fe9882bfe4b0520a322820c4c55747d  5 stars for giving me a better framework for h...   \n",
       "dbc01e2438df7a87ee3dc16ee23a53e5  Numerous people in publishing have told me thi...   \n",
       "754710070f38e1c59a45f6a85473b836  Another hard to put down nonfiction book from ...   \n",
       "d11954e6e9e9ddf52aed41d83ce43fa6  I love Stephenson - and this was another hit -...   \n",
       "\n",
       "                                                      date_added  \\\n",
       "review_id                                                          \n",
       "dfdbb7b0eb5a7e4c26d59a937e2e5feb  Sun Jul 30 07:44:10 -0700 2017   \n",
       "a5d2c3628987712d0e05c4f90798eb67  Mon Dec 05 10:46:44 -0800 2016   \n",
       "2ede853b14dc4583f96cf5d120af636f  Tue Nov 15 11:29:22 -0800 2016   \n",
       "ced5675e55cd9d38a524743f5c40996e  Wed Nov 09 17:37:04 -0800 2016   \n",
       "332732725863131279a8e345b63ac33e  Mon Apr 25 09:31:23 -0700 2016   \n",
       "ea4a220b10e6b5c796dae0e3b970aff1  Sun Jan 03 21:20:46 -0800 2016   \n",
       "5fe9882bfe4b0520a322820c4c55747d  Sun Jun 07 12:50:13 -0700 2015   \n",
       "dbc01e2438df7a87ee3dc16ee23a53e5  Fri May 29 17:48:57 -0700 2015   \n",
       "754710070f38e1c59a45f6a85473b836  Thu May 07 13:59:32 -0700 2015   \n",
       "d11954e6e9e9ddf52aed41d83ce43fa6  Wed Apr 29 10:56:44 -0700 2015   \n",
       "\n",
       "                                                    date_updated  \\\n",
       "review_id                                                          \n",
       "dfdbb7b0eb5a7e4c26d59a937e2e5feb  Wed Aug 30 00:00:26 -0700 2017   \n",
       "a5d2c3628987712d0e05c4f90798eb67  Wed Mar 22 11:37:04 -0700 2017   \n",
       "2ede853b14dc4583f96cf5d120af636f  Mon Mar 20 23:40:27 -0700 2017   \n",
       "ced5675e55cd9d38a524743f5c40996e  Wed Nov 09 17:38:20 -0800 2016   \n",
       "332732725863131279a8e345b63ac33e  Mon Apr 25 09:31:23 -0700 2016   \n",
       "ea4a220b10e6b5c796dae0e3b970aff1  Tue Sep 20 23:30:15 -0700 2016   \n",
       "5fe9882bfe4b0520a322820c4c55747d  Wed Mar 22 11:36:58 -0700 2017   \n",
       "dbc01e2438df7a87ee3dc16ee23a53e5  Fri May 29 17:49:40 -0700 2015   \n",
       "754710070f38e1c59a45f6a85473b836  Wed Dec 14 12:30:43 -0800 2016   \n",
       "d11954e6e9e9ddf52aed41d83ce43fa6  Wed Dec 14 12:30:43 -0800 2016   \n",
       "\n",
       "                                                         read_at  \\\n",
       "review_id                                                          \n",
       "dfdbb7b0eb5a7e4c26d59a937e2e5feb  Sat Aug 26 12:05:52 -0700 2017   \n",
       "a5d2c3628987712d0e05c4f90798eb67                             NaN   \n",
       "2ede853b14dc4583f96cf5d120af636f  Sat Mar 18 23:22:42 -0700 2017   \n",
       "ced5675e55cd9d38a524743f5c40996e                             NaN   \n",
       "332732725863131279a8e345b63ac33e  Sun Jun 26 00:00:00 -0700 2016   \n",
       "ea4a220b10e6b5c796dae0e3b970aff1  Tue Sep 13 11:51:51 -0700 2016   \n",
       "5fe9882bfe4b0520a322820c4c55747d  Sun Aug 09 00:00:00 -0700 2015   \n",
       "dbc01e2438df7a87ee3dc16ee23a53e5                             NaN   \n",
       "754710070f38e1c59a45f6a85473b836  Sat Jul 11 00:00:00 -0700 2015   \n",
       "d11954e6e9e9ddf52aed41d83ce43fa6  Wed Nov 04 00:00:00 -0800 2015   \n",
       "\n",
       "                                                      started_at  n_votes  \\\n",
       "review_id                                                                   \n",
       "dfdbb7b0eb5a7e4c26d59a937e2e5feb  Tue Aug 15 13:23:18 -0700 2017       28   \n",
       "a5d2c3628987712d0e05c4f90798eb67                             NaN        1   \n",
       "2ede853b14dc4583f96cf5d120af636f  Fri Mar 17 23:45:40 -0700 2017       22   \n",
       "ced5675e55cd9d38a524743f5c40996e                             NaN        5   \n",
       "332732725863131279a8e345b63ac33e  Sat May 28 00:00:00 -0700 2016        9   \n",
       "ea4a220b10e6b5c796dae0e3b970aff1  Sat Aug 20 07:03:03 -0700 2016       35   \n",
       "5fe9882bfe4b0520a322820c4c55747d  Sun Jun 07 00:00:00 -0700 2015       24   \n",
       "dbc01e2438df7a87ee3dc16ee23a53e5                             NaN       11   \n",
       "754710070f38e1c59a45f6a85473b836  Wed Jun 24 00:00:00 -0700 2015       20   \n",
       "d11954e6e9e9ddf52aed41d83ce43fa6  Sun Sep 27 00:00:00 -0700 2015       40   \n",
       "\n",
       "                                  n_comments  \n",
       "review_id                                     \n",
       "dfdbb7b0eb5a7e4c26d59a937e2e5feb           1  \n",
       "a5d2c3628987712d0e05c4f90798eb67           0  \n",
       "2ede853b14dc4583f96cf5d120af636f           0  \n",
       "ced5675e55cd9d38a524743f5c40996e           1  \n",
       "332732725863131279a8e345b63ac33e           1  \n",
       "ea4a220b10e6b5c796dae0e3b970aff1           5  \n",
       "5fe9882bfe4b0520a322820c4c55747d           3  \n",
       "dbc01e2438df7a87ee3dc16ee23a53e5           5  \n",
       "754710070f38e1c59a45f6a85473b836           6  \n",
       "d11954e6e9e9ddf52aed41d83ce43fa6           6  "
      ]
     },
     "execution_count": 8,
     "metadata": {},
     "output_type": "execute_result"
    }
   ],
   "source": [
    "books.head(10)"
   ]
  },
  {
   "cell_type": "code",
   "execution_count": 9,
   "id": "ebd0a7c4",
   "metadata": {},
   "outputs": [],
   "source": [
    "books.drop(columns=['date_updated', 'read_at', 'started_at'], axis=1, inplace=True)"
   ]
  },
  {
   "cell_type": "code",
   "execution_count": 10,
   "id": "9dc15ead",
   "metadata": {},
   "outputs": [],
   "source": [
    "books_1 = books[(books['n_votes'] >=0) & (books['n_comments']>=0)]"
   ]
  },
  {
   "cell_type": "code",
   "execution_count": 11,
   "id": "613a9d50",
   "metadata": {},
   "outputs": [
    {
     "data": {
      "text/html": [
       "<div>\n",
       "<style scoped>\n",
       "    .dataframe tbody tr th:only-of-type {\n",
       "        vertical-align: middle;\n",
       "    }\n",
       "\n",
       "    .dataframe tbody tr th {\n",
       "        vertical-align: top;\n",
       "    }\n",
       "\n",
       "    .dataframe thead th {\n",
       "        text-align: right;\n",
       "    }\n",
       "</style>\n",
       "<table border=\"1\" class=\"dataframe\">\n",
       "  <thead>\n",
       "    <tr style=\"text-align: right;\">\n",
       "      <th></th>\n",
       "      <th>user_id</th>\n",
       "      <th>book_id</th>\n",
       "      <th>review_text</th>\n",
       "      <th>date_added</th>\n",
       "      <th>n_votes</th>\n",
       "      <th>n_comments</th>\n",
       "    </tr>\n",
       "    <tr>\n",
       "      <th>review_id</th>\n",
       "      <th></th>\n",
       "      <th></th>\n",
       "      <th></th>\n",
       "      <th></th>\n",
       "      <th></th>\n",
       "      <th></th>\n",
       "    </tr>\n",
       "  </thead>\n",
       "  <tbody>\n",
       "    <tr>\n",
       "      <th>dfdbb7b0eb5a7e4c26d59a937e2e5feb</th>\n",
       "      <td>8842281e1d1347389f2ab93d60773d4d</td>\n",
       "      <td>18245960</td>\n",
       "      <td>This is a special book. It started slow for ab...</td>\n",
       "      <td>Sun Jul 30 07:44:10 -0700 2017</td>\n",
       "      <td>28</td>\n",
       "      <td>1</td>\n",
       "    </tr>\n",
       "    <tr>\n",
       "      <th>a5d2c3628987712d0e05c4f90798eb67</th>\n",
       "      <td>8842281e1d1347389f2ab93d60773d4d</td>\n",
       "      <td>16981</td>\n",
       "      <td>Recommended by Don Katz. Avail for free in Dec...</td>\n",
       "      <td>Mon Dec 05 10:46:44 -0800 2016</td>\n",
       "      <td>1</td>\n",
       "      <td>0</td>\n",
       "    </tr>\n",
       "    <tr>\n",
       "      <th>2ede853b14dc4583f96cf5d120af636f</th>\n",
       "      <td>8842281e1d1347389f2ab93d60773d4d</td>\n",
       "      <td>28684704</td>\n",
       "      <td>A fun, fast paced science fiction thriller. I ...</td>\n",
       "      <td>Tue Nov 15 11:29:22 -0800 2016</td>\n",
       "      <td>22</td>\n",
       "      <td>0</td>\n",
       "    </tr>\n",
       "    <tr>\n",
       "      <th>ced5675e55cd9d38a524743f5c40996e</th>\n",
       "      <td>8842281e1d1347389f2ab93d60773d4d</td>\n",
       "      <td>27161156</td>\n",
       "      <td>Recommended reading to understand what is goin...</td>\n",
       "      <td>Wed Nov 09 17:37:04 -0800 2016</td>\n",
       "      <td>5</td>\n",
       "      <td>1</td>\n",
       "    </tr>\n",
       "    <tr>\n",
       "      <th>332732725863131279a8e345b63ac33e</th>\n",
       "      <td>8842281e1d1347389f2ab93d60773d4d</td>\n",
       "      <td>25884323</td>\n",
       "      <td>I really enjoyed this book, and there is a lot...</td>\n",
       "      <td>Mon Apr 25 09:31:23 -0700 2016</td>\n",
       "      <td>9</td>\n",
       "      <td>1</td>\n",
       "    </tr>\n",
       "    <tr>\n",
       "      <th>...</th>\n",
       "      <td>...</td>\n",
       "      <td>...</td>\n",
       "      <td>...</td>\n",
       "      <td>...</td>\n",
       "      <td>...</td>\n",
       "      <td>...</td>\n",
       "    </tr>\n",
       "    <tr>\n",
       "      <th>0e1db3d4b04256f9660f5d276ddf1314</th>\n",
       "      <td>35cef391b171b4fca45771e508028212</td>\n",
       "      <td>15745950</td>\n",
       "      <td>Can't wait for Travis' POV \\n Travis Before Ab...</td>\n",
       "      <td>Sun Aug 05 10:26:12 -0700 2012</td>\n",
       "      <td>0</td>\n",
       "      <td>0</td>\n",
       "    </tr>\n",
       "    <tr>\n",
       "      <th>0b7f352e58caf0fd1f961e98ef04e89c</th>\n",
       "      <td>35cef391b171b4fca45771e508028212</td>\n",
       "      <td>10861195</td>\n",
       "      <td>Had this on my to-read shelf forever. Will upd...</td>\n",
       "      <td>Tue Jul 10 23:31:00 -0700 2012</td>\n",
       "      <td>0</td>\n",
       "      <td>0</td>\n",
       "    </tr>\n",
       "    <tr>\n",
       "      <th>9b19eff33ddb14e9e68fca2e90379e46</th>\n",
       "      <td>35cef391b171b4fca45771e508028212</td>\n",
       "      <td>6131164</td>\n",
       "      <td>The last book left me wanting for more. I need...</td>\n",
       "      <td>Tue Jul 10 19:45:17 -0700 2012</td>\n",
       "      <td>0</td>\n",
       "      <td>0</td>\n",
       "    </tr>\n",
       "    <tr>\n",
       "      <th>8be463fed78f0da63e964706f710332b</th>\n",
       "      <td>35cef391b171b4fca45771e508028212</td>\n",
       "      <td>10025305</td>\n",
       "      <td>Things are heating up in the second novel of I...</td>\n",
       "      <td>Thu Jul 05 19:19:30 -0700 2012</td>\n",
       "      <td>0</td>\n",
       "      <td>0</td>\n",
       "    </tr>\n",
       "    <tr>\n",
       "      <th>62ed1263c7d216986cc419cd4e8a408b</th>\n",
       "      <td>35cef391b171b4fca45771e508028212</td>\n",
       "      <td>6482837</td>\n",
       "      <td>Before I even start this review, I must say th...</td>\n",
       "      <td>Mon Jun 04 18:06:26 -0700 2012</td>\n",
       "      <td>0</td>\n",
       "      <td>0</td>\n",
       "    </tr>\n",
       "  </tbody>\n",
       "</table>\n",
       "<p>1377930 rows × 6 columns</p>\n",
       "</div>"
      ],
      "text/plain": [
       "                                                           user_id   book_id  \\\n",
       "review_id                                                                      \n",
       "dfdbb7b0eb5a7e4c26d59a937e2e5feb  8842281e1d1347389f2ab93d60773d4d  18245960   \n",
       "a5d2c3628987712d0e05c4f90798eb67  8842281e1d1347389f2ab93d60773d4d     16981   \n",
       "2ede853b14dc4583f96cf5d120af636f  8842281e1d1347389f2ab93d60773d4d  28684704   \n",
       "ced5675e55cd9d38a524743f5c40996e  8842281e1d1347389f2ab93d60773d4d  27161156   \n",
       "332732725863131279a8e345b63ac33e  8842281e1d1347389f2ab93d60773d4d  25884323   \n",
       "...                                                            ...       ...   \n",
       "0e1db3d4b04256f9660f5d276ddf1314  35cef391b171b4fca45771e508028212  15745950   \n",
       "0b7f352e58caf0fd1f961e98ef04e89c  35cef391b171b4fca45771e508028212  10861195   \n",
       "9b19eff33ddb14e9e68fca2e90379e46  35cef391b171b4fca45771e508028212   6131164   \n",
       "8be463fed78f0da63e964706f710332b  35cef391b171b4fca45771e508028212  10025305   \n",
       "62ed1263c7d216986cc419cd4e8a408b  35cef391b171b4fca45771e508028212   6482837   \n",
       "\n",
       "                                                                        review_text  \\\n",
       "review_id                                                                             \n",
       "dfdbb7b0eb5a7e4c26d59a937e2e5feb  This is a special book. It started slow for ab...   \n",
       "a5d2c3628987712d0e05c4f90798eb67  Recommended by Don Katz. Avail for free in Dec...   \n",
       "2ede853b14dc4583f96cf5d120af636f  A fun, fast paced science fiction thriller. I ...   \n",
       "ced5675e55cd9d38a524743f5c40996e  Recommended reading to understand what is goin...   \n",
       "332732725863131279a8e345b63ac33e  I really enjoyed this book, and there is a lot...   \n",
       "...                                                                             ...   \n",
       "0e1db3d4b04256f9660f5d276ddf1314  Can't wait for Travis' POV \\n Travis Before Ab...   \n",
       "0b7f352e58caf0fd1f961e98ef04e89c  Had this on my to-read shelf forever. Will upd...   \n",
       "9b19eff33ddb14e9e68fca2e90379e46  The last book left me wanting for more. I need...   \n",
       "8be463fed78f0da63e964706f710332b  Things are heating up in the second novel of I...   \n",
       "62ed1263c7d216986cc419cd4e8a408b  Before I even start this review, I must say th...   \n",
       "\n",
       "                                                      date_added  n_votes  \\\n",
       "review_id                                                                   \n",
       "dfdbb7b0eb5a7e4c26d59a937e2e5feb  Sun Jul 30 07:44:10 -0700 2017       28   \n",
       "a5d2c3628987712d0e05c4f90798eb67  Mon Dec 05 10:46:44 -0800 2016        1   \n",
       "2ede853b14dc4583f96cf5d120af636f  Tue Nov 15 11:29:22 -0800 2016       22   \n",
       "ced5675e55cd9d38a524743f5c40996e  Wed Nov 09 17:37:04 -0800 2016        5   \n",
       "332732725863131279a8e345b63ac33e  Mon Apr 25 09:31:23 -0700 2016        9   \n",
       "...                                                          ...      ...   \n",
       "0e1db3d4b04256f9660f5d276ddf1314  Sun Aug 05 10:26:12 -0700 2012        0   \n",
       "0b7f352e58caf0fd1f961e98ef04e89c  Tue Jul 10 23:31:00 -0700 2012        0   \n",
       "9b19eff33ddb14e9e68fca2e90379e46  Tue Jul 10 19:45:17 -0700 2012        0   \n",
       "8be463fed78f0da63e964706f710332b  Thu Jul 05 19:19:30 -0700 2012        0   \n",
       "62ed1263c7d216986cc419cd4e8a408b  Mon Jun 04 18:06:26 -0700 2012        0   \n",
       "\n",
       "                                  n_comments  \n",
       "review_id                                     \n",
       "dfdbb7b0eb5a7e4c26d59a937e2e5feb           1  \n",
       "a5d2c3628987712d0e05c4f90798eb67           0  \n",
       "2ede853b14dc4583f96cf5d120af636f           0  \n",
       "ced5675e55cd9d38a524743f5c40996e           1  \n",
       "332732725863131279a8e345b63ac33e           1  \n",
       "...                                      ...  \n",
       "0e1db3d4b04256f9660f5d276ddf1314           0  \n",
       "0b7f352e58caf0fd1f961e98ef04e89c           0  \n",
       "9b19eff33ddb14e9e68fca2e90379e46           0  \n",
       "8be463fed78f0da63e964706f710332b           0  \n",
       "62ed1263c7d216986cc419cd4e8a408b           0  \n",
       "\n",
       "[1377930 rows x 6 columns]"
      ]
     },
     "execution_count": 11,
     "metadata": {},
     "output_type": "execute_result"
    }
   ],
   "source": [
    "books_1"
   ]
  },
  {
   "cell_type": "code",
   "execution_count": 12,
   "id": "ef4061ab",
   "metadata": {},
   "outputs": [
    {
     "data": {
      "text/plain": [
       "0"
      ]
     },
     "execution_count": 12,
     "metadata": {},
     "output_type": "execute_result"
    }
   ],
   "source": [
    "sum(books_1.duplicated())"
   ]
  },
  {
   "cell_type": "code",
   "execution_count": 13,
   "id": "1064d3da",
   "metadata": {},
   "outputs": [
    {
     "data": {
      "text/plain": [
       "16130"
      ]
     },
     "execution_count": 13,
     "metadata": {},
     "output_type": "execute_result"
    }
   ],
   "source": [
    "sum(books_1.duplicated(subset=['review_text']))"
   ]
  },
  {
   "cell_type": "code",
   "execution_count": 14,
   "id": "c85367aa",
   "metadata": {},
   "outputs": [],
   "source": [
    "books_1.drop_duplicates(subset=['review_text'], inplace=True)"
   ]
  },
  {
   "cell_type": "code",
   "execution_count": 15,
   "id": "c1860812",
   "metadata": {
    "scrolled": true
   },
   "outputs": [
    {
     "data": {
      "text/html": [
       "<div>\n",
       "<style scoped>\n",
       "    .dataframe tbody tr th:only-of-type {\n",
       "        vertical-align: middle;\n",
       "    }\n",
       "\n",
       "    .dataframe tbody tr th {\n",
       "        vertical-align: top;\n",
       "    }\n",
       "\n",
       "    .dataframe thead th {\n",
       "        text-align: right;\n",
       "    }\n",
       "</style>\n",
       "<table border=\"1\" class=\"dataframe\">\n",
       "  <thead>\n",
       "    <tr style=\"text-align: right;\">\n",
       "      <th></th>\n",
       "      <th>user_id</th>\n",
       "      <th>book_id</th>\n",
       "      <th>review_text</th>\n",
       "      <th>date_added</th>\n",
       "      <th>n_votes</th>\n",
       "      <th>n_comments</th>\n",
       "    </tr>\n",
       "    <tr>\n",
       "      <th>review_id</th>\n",
       "      <th></th>\n",
       "      <th></th>\n",
       "      <th></th>\n",
       "      <th></th>\n",
       "      <th></th>\n",
       "      <th></th>\n",
       "    </tr>\n",
       "  </thead>\n",
       "  <tbody>\n",
       "    <tr>\n",
       "      <th>dfdbb7b0eb5a7e4c26d59a937e2e5feb</th>\n",
       "      <td>8842281e1d1347389f2ab93d60773d4d</td>\n",
       "      <td>18245960</td>\n",
       "      <td>This is a special book. It started slow for ab...</td>\n",
       "      <td>Sun Jul 30 07:44:10 -0700 2017</td>\n",
       "      <td>28</td>\n",
       "      <td>1</td>\n",
       "    </tr>\n",
       "    <tr>\n",
       "      <th>a5d2c3628987712d0e05c4f90798eb67</th>\n",
       "      <td>8842281e1d1347389f2ab93d60773d4d</td>\n",
       "      <td>16981</td>\n",
       "      <td>Recommended by Don Katz. Avail for free in Dec...</td>\n",
       "      <td>Mon Dec 05 10:46:44 -0800 2016</td>\n",
       "      <td>1</td>\n",
       "      <td>0</td>\n",
       "    </tr>\n",
       "    <tr>\n",
       "      <th>2ede853b14dc4583f96cf5d120af636f</th>\n",
       "      <td>8842281e1d1347389f2ab93d60773d4d</td>\n",
       "      <td>28684704</td>\n",
       "      <td>A fun, fast paced science fiction thriller. I ...</td>\n",
       "      <td>Tue Nov 15 11:29:22 -0800 2016</td>\n",
       "      <td>22</td>\n",
       "      <td>0</td>\n",
       "    </tr>\n",
       "    <tr>\n",
       "      <th>ced5675e55cd9d38a524743f5c40996e</th>\n",
       "      <td>8842281e1d1347389f2ab93d60773d4d</td>\n",
       "      <td>27161156</td>\n",
       "      <td>Recommended reading to understand what is goin...</td>\n",
       "      <td>Wed Nov 09 17:37:04 -0800 2016</td>\n",
       "      <td>5</td>\n",
       "      <td>1</td>\n",
       "    </tr>\n",
       "    <tr>\n",
       "      <th>332732725863131279a8e345b63ac33e</th>\n",
       "      <td>8842281e1d1347389f2ab93d60773d4d</td>\n",
       "      <td>25884323</td>\n",
       "      <td>I really enjoyed this book, and there is a lot...</td>\n",
       "      <td>Mon Apr 25 09:31:23 -0700 2016</td>\n",
       "      <td>9</td>\n",
       "      <td>1</td>\n",
       "    </tr>\n",
       "    <tr>\n",
       "      <th>ea4a220b10e6b5c796dae0e3b970aff1</th>\n",
       "      <td>8842281e1d1347389f2ab93d60773d4d</td>\n",
       "      <td>19398490</td>\n",
       "      <td>A beautiful story. It is rare to encounter a b...</td>\n",
       "      <td>Sun Jan 03 21:20:46 -0800 2016</td>\n",
       "      <td>35</td>\n",
       "      <td>5</td>\n",
       "    </tr>\n",
       "    <tr>\n",
       "      <th>5fe9882bfe4b0520a322820c4c55747d</th>\n",
       "      <td>8842281e1d1347389f2ab93d60773d4d</td>\n",
       "      <td>22318578</td>\n",
       "      <td>5 stars for giving me a better framework for h...</td>\n",
       "      <td>Sun Jun 07 12:50:13 -0700 2015</td>\n",
       "      <td>24</td>\n",
       "      <td>3</td>\n",
       "    </tr>\n",
       "    <tr>\n",
       "      <th>dbc01e2438df7a87ee3dc16ee23a53e5</th>\n",
       "      <td>8842281e1d1347389f2ab93d60773d4d</td>\n",
       "      <td>24189224</td>\n",
       "      <td>Numerous people in publishing have told me thi...</td>\n",
       "      <td>Fri May 29 17:48:57 -0700 2015</td>\n",
       "      <td>11</td>\n",
       "      <td>5</td>\n",
       "    </tr>\n",
       "    <tr>\n",
       "      <th>754710070f38e1c59a45f6a85473b836</th>\n",
       "      <td>8842281e1d1347389f2ab93d60773d4d</td>\n",
       "      <td>22551730</td>\n",
       "      <td>Another hard to put down nonfiction book from ...</td>\n",
       "      <td>Thu May 07 13:59:32 -0700 2015</td>\n",
       "      <td>20</td>\n",
       "      <td>6</td>\n",
       "    </tr>\n",
       "    <tr>\n",
       "      <th>d11954e6e9e9ddf52aed41d83ce43fa6</th>\n",
       "      <td>8842281e1d1347389f2ab93d60773d4d</td>\n",
       "      <td>22816087</td>\n",
       "      <td>I love Stephenson - and this was another hit -...</td>\n",
       "      <td>Wed Apr 29 10:56:44 -0700 2015</td>\n",
       "      <td>40</td>\n",
       "      <td>6</td>\n",
       "    </tr>\n",
       "  </tbody>\n",
       "</table>\n",
       "</div>"
      ],
      "text/plain": [
       "                                                           user_id   book_id  \\\n",
       "review_id                                                                      \n",
       "dfdbb7b0eb5a7e4c26d59a937e2e5feb  8842281e1d1347389f2ab93d60773d4d  18245960   \n",
       "a5d2c3628987712d0e05c4f90798eb67  8842281e1d1347389f2ab93d60773d4d     16981   \n",
       "2ede853b14dc4583f96cf5d120af636f  8842281e1d1347389f2ab93d60773d4d  28684704   \n",
       "ced5675e55cd9d38a524743f5c40996e  8842281e1d1347389f2ab93d60773d4d  27161156   \n",
       "332732725863131279a8e345b63ac33e  8842281e1d1347389f2ab93d60773d4d  25884323   \n",
       "ea4a220b10e6b5c796dae0e3b970aff1  8842281e1d1347389f2ab93d60773d4d  19398490   \n",
       "5fe9882bfe4b0520a322820c4c55747d  8842281e1d1347389f2ab93d60773d4d  22318578   \n",
       "dbc01e2438df7a87ee3dc16ee23a53e5  8842281e1d1347389f2ab93d60773d4d  24189224   \n",
       "754710070f38e1c59a45f6a85473b836  8842281e1d1347389f2ab93d60773d4d  22551730   \n",
       "d11954e6e9e9ddf52aed41d83ce43fa6  8842281e1d1347389f2ab93d60773d4d  22816087   \n",
       "\n",
       "                                                                        review_text  \\\n",
       "review_id                                                                             \n",
       "dfdbb7b0eb5a7e4c26d59a937e2e5feb  This is a special book. It started slow for ab...   \n",
       "a5d2c3628987712d0e05c4f90798eb67  Recommended by Don Katz. Avail for free in Dec...   \n",
       "2ede853b14dc4583f96cf5d120af636f  A fun, fast paced science fiction thriller. I ...   \n",
       "ced5675e55cd9d38a524743f5c40996e  Recommended reading to understand what is goin...   \n",
       "332732725863131279a8e345b63ac33e  I really enjoyed this book, and there is a lot...   \n",
       "ea4a220b10e6b5c796dae0e3b970aff1  A beautiful story. It is rare to encounter a b...   \n",
       "5fe9882bfe4b0520a322820c4c55747d  5 stars for giving me a better framework for h...   \n",
       "dbc01e2438df7a87ee3dc16ee23a53e5  Numerous people in publishing have told me thi...   \n",
       "754710070f38e1c59a45f6a85473b836  Another hard to put down nonfiction book from ...   \n",
       "d11954e6e9e9ddf52aed41d83ce43fa6  I love Stephenson - and this was another hit -...   \n",
       "\n",
       "                                                      date_added  n_votes  \\\n",
       "review_id                                                                   \n",
       "dfdbb7b0eb5a7e4c26d59a937e2e5feb  Sun Jul 30 07:44:10 -0700 2017       28   \n",
       "a5d2c3628987712d0e05c4f90798eb67  Mon Dec 05 10:46:44 -0800 2016        1   \n",
       "2ede853b14dc4583f96cf5d120af636f  Tue Nov 15 11:29:22 -0800 2016       22   \n",
       "ced5675e55cd9d38a524743f5c40996e  Wed Nov 09 17:37:04 -0800 2016        5   \n",
       "332732725863131279a8e345b63ac33e  Mon Apr 25 09:31:23 -0700 2016        9   \n",
       "ea4a220b10e6b5c796dae0e3b970aff1  Sun Jan 03 21:20:46 -0800 2016       35   \n",
       "5fe9882bfe4b0520a322820c4c55747d  Sun Jun 07 12:50:13 -0700 2015       24   \n",
       "dbc01e2438df7a87ee3dc16ee23a53e5  Fri May 29 17:48:57 -0700 2015       11   \n",
       "754710070f38e1c59a45f6a85473b836  Thu May 07 13:59:32 -0700 2015       20   \n",
       "d11954e6e9e9ddf52aed41d83ce43fa6  Wed Apr 29 10:56:44 -0700 2015       40   \n",
       "\n",
       "                                  n_comments  \n",
       "review_id                                     \n",
       "dfdbb7b0eb5a7e4c26d59a937e2e5feb           1  \n",
       "a5d2c3628987712d0e05c4f90798eb67           0  \n",
       "2ede853b14dc4583f96cf5d120af636f           0  \n",
       "ced5675e55cd9d38a524743f5c40996e           1  \n",
       "332732725863131279a8e345b63ac33e           1  \n",
       "ea4a220b10e6b5c796dae0e3b970aff1           5  \n",
       "5fe9882bfe4b0520a322820c4c55747d           3  \n",
       "dbc01e2438df7a87ee3dc16ee23a53e5           5  \n",
       "754710070f38e1c59a45f6a85473b836           6  \n",
       "d11954e6e9e9ddf52aed41d83ce43fa6           6  "
      ]
     },
     "execution_count": 15,
     "metadata": {},
     "output_type": "execute_result"
    }
   ],
   "source": [
    "books_1.head(10)"
   ]
  },
  {
   "cell_type": "code",
   "execution_count": 16,
   "id": "9f18e231",
   "metadata": {},
   "outputs": [],
   "source": [
    "unapp_text = books_1['review_text'].apply(lambda txt: numpy.mean(list(map(len, txt.split()))))>25"
   ]
  },
  {
   "cell_type": "code",
   "execution_count": 17,
   "id": "727ad4a4",
   "metadata": {},
   "outputs": [
    {
     "data": {
      "text/html": [
       "<div>\n",
       "<style scoped>\n",
       "    .dataframe tbody tr th:only-of-type {\n",
       "        vertical-align: middle;\n",
       "    }\n",
       "\n",
       "    .dataframe tbody tr th {\n",
       "        vertical-align: top;\n",
       "    }\n",
       "\n",
       "    .dataframe thead th {\n",
       "        text-align: right;\n",
       "    }\n",
       "</style>\n",
       "<table border=\"1\" class=\"dataframe\">\n",
       "  <thead>\n",
       "    <tr style=\"text-align: right;\">\n",
       "      <th></th>\n",
       "      <th>user_id</th>\n",
       "      <th>book_id</th>\n",
       "      <th>review_text</th>\n",
       "      <th>date_added</th>\n",
       "      <th>n_votes</th>\n",
       "      <th>n_comments</th>\n",
       "    </tr>\n",
       "    <tr>\n",
       "      <th>review_id</th>\n",
       "      <th></th>\n",
       "      <th></th>\n",
       "      <th></th>\n",
       "      <th></th>\n",
       "      <th></th>\n",
       "      <th></th>\n",
       "    </tr>\n",
       "  </thead>\n",
       "  <tbody>\n",
       "    <tr>\n",
       "      <th>ba7e149d70cb858d87d4113dfe0e4091</th>\n",
       "      <td>8092e33e9c50d3e269a8164177d2abdc</td>\n",
       "      <td>6339664</td>\n",
       "      <td>IhavetoadmitihavefalleninlovewithPatcicannotwa...</td>\n",
       "      <td>Sun Sep 30 12:29:48 -0700 2012</td>\n",
       "      <td>1</td>\n",
       "      <td>1</td>\n",
       "    </tr>\n",
       "    <tr>\n",
       "      <th>90529a603506931b91502b3c65b0564c</th>\n",
       "      <td>308c545182f8b5d332ff71c667fd9b61</td>\n",
       "      <td>12127810</td>\n",
       "      <td>the feels for NICO DI ANGELO.....................</td>\n",
       "      <td>Thu May 16 23:11:00 -0700 2013</td>\n",
       "      <td>0</td>\n",
       "      <td>0</td>\n",
       "    </tr>\n",
       "    <tr>\n",
       "      <th>7105506d7aa373be892e6d7d29750741</th>\n",
       "      <td>302eb3debfc02e0bdd0fd617d34a2713</td>\n",
       "      <td>10644930</td>\n",
       "      <td>\"The past is obdurate.\" \\n rtcrtcrtcrtcrtcrtcr...</td>\n",
       "      <td>Fri Mar 18 07:59:13 -0700 2016</td>\n",
       "      <td>0</td>\n",
       "      <td>0</td>\n",
       "    </tr>\n",
       "    <tr>\n",
       "      <th>ba4e577524730630bef88cb4c76c6dd7</th>\n",
       "      <td>de107a99cb0ed2ec5d90d744cc48c310</td>\n",
       "      <td>23723788</td>\n",
       "      <td>2.5 it's-a-good-book-as-in-even-after-months-I...</td>\n",
       "      <td>Sun Aug 30 18:18:44 -0700 2015</td>\n",
       "      <td>0</td>\n",
       "      <td>0</td>\n",
       "    </tr>\n",
       "    <tr>\n",
       "      <th>d9d104943954cc9d975a07d1a724be90</th>\n",
       "      <td>de107a99cb0ed2ec5d90d744cc48c310</td>\n",
       "      <td>23496782</td>\n",
       "      <td>2.5 It-Was-a-Very-Okay-Book-With-the-Mystery-a...</td>\n",
       "      <td>Thu Apr 09 04:41:42 -0700 2015</td>\n",
       "      <td>3</td>\n",
       "      <td>0</td>\n",
       "    </tr>\n",
       "    <tr>\n",
       "      <th>a79de0fe1d6b8cb32722276577a2a870</th>\n",
       "      <td>ba0a0f32ee81d2bc56866f4ab767062c</td>\n",
       "      <td>7664041</td>\n",
       "      <td>Must...fry...more...brain...cells!</td>\n",
       "      <td>Mon Nov 14 14:58:55 -0800 2011</td>\n",
       "      <td>0</td>\n",
       "      <td>0</td>\n",
       "    </tr>\n",
       "    <tr>\n",
       "      <th>ebb2dc04593320cf2e6af799a0f98e63</th>\n",
       "      <td>1ffb13e4f8c151bb07c8d8eb869c2d7e</td>\n",
       "      <td>18630598</td>\n",
       "      <td>#certaincharactersthatiwontdisclosedeservedbet...</td>\n",
       "      <td>Sun Jul 09 16:46:56 -0700 2017</td>\n",
       "      <td>0</td>\n",
       "      <td>0</td>\n",
       "    </tr>\n",
       "    <tr>\n",
       "      <th>59fa84dcdaa951b79ef0bb4bcda2d19d</th>\n",
       "      <td>f65170af6d65deb8d2c3dbfc0fe79939</td>\n",
       "      <td>13562356</td>\n",
       "      <td>Aw.That.Was.Nice.And.Too.Short.</td>\n",
       "      <td>Tue Mar 11 10:37:14 -0700 2014</td>\n",
       "      <td>1</td>\n",
       "      <td>0</td>\n",
       "    </tr>\n",
       "    <tr>\n",
       "      <th>4955188c74fbc2f4da1cbf4a1bb452e1</th>\n",
       "      <td>27325d8a3c87ccb35bc603e158c35dd3</td>\n",
       "      <td>25558608</td>\n",
       "      <td>AAAAAAAAAAAAAAAAAAAAAAAAAAAAAAAAAAAAAAAAAAAAAA...</td>\n",
       "      <td>Thu Feb 11 12:36:49 -0800 2016</td>\n",
       "      <td>1</td>\n",
       "      <td>0</td>\n",
       "    </tr>\n",
       "    <tr>\n",
       "      <th>abcafee3301b08cdb4786f5995bb2f35</th>\n",
       "      <td>90df2a781bc76c2e018d89189439d47a</td>\n",
       "      <td>25573701</td>\n",
       "      <td>AAAAAAAAAAAAAAAAAAAAAAAAAAAAAAAAAAAAAAAAAAAAAA...</td>\n",
       "      <td>Sat Jan 09 09:27:28 -0800 2016</td>\n",
       "      <td>1</td>\n",
       "      <td>0</td>\n",
       "    </tr>\n",
       "  </tbody>\n",
       "</table>\n",
       "</div>"
      ],
      "text/plain": [
       "                                                           user_id   book_id  \\\n",
       "review_id                                                                      \n",
       "ba7e149d70cb858d87d4113dfe0e4091  8092e33e9c50d3e269a8164177d2abdc   6339664   \n",
       "90529a603506931b91502b3c65b0564c  308c545182f8b5d332ff71c667fd9b61  12127810   \n",
       "7105506d7aa373be892e6d7d29750741  302eb3debfc02e0bdd0fd617d34a2713  10644930   \n",
       "ba4e577524730630bef88cb4c76c6dd7  de107a99cb0ed2ec5d90d744cc48c310  23723788   \n",
       "d9d104943954cc9d975a07d1a724be90  de107a99cb0ed2ec5d90d744cc48c310  23496782   \n",
       "a79de0fe1d6b8cb32722276577a2a870  ba0a0f32ee81d2bc56866f4ab767062c   7664041   \n",
       "ebb2dc04593320cf2e6af799a0f98e63  1ffb13e4f8c151bb07c8d8eb869c2d7e  18630598   \n",
       "59fa84dcdaa951b79ef0bb4bcda2d19d  f65170af6d65deb8d2c3dbfc0fe79939  13562356   \n",
       "4955188c74fbc2f4da1cbf4a1bb452e1  27325d8a3c87ccb35bc603e158c35dd3  25558608   \n",
       "abcafee3301b08cdb4786f5995bb2f35  90df2a781bc76c2e018d89189439d47a  25573701   \n",
       "\n",
       "                                                                        review_text  \\\n",
       "review_id                                                                             \n",
       "ba7e149d70cb858d87d4113dfe0e4091  IhavetoadmitihavefalleninlovewithPatcicannotwa...   \n",
       "90529a603506931b91502b3c65b0564c  the feels for NICO DI ANGELO.....................   \n",
       "7105506d7aa373be892e6d7d29750741  \"The past is obdurate.\" \\n rtcrtcrtcrtcrtcrtcr...   \n",
       "ba4e577524730630bef88cb4c76c6dd7  2.5 it's-a-good-book-as-in-even-after-months-I...   \n",
       "d9d104943954cc9d975a07d1a724be90  2.5 It-Was-a-Very-Okay-Book-With-the-Mystery-a...   \n",
       "a79de0fe1d6b8cb32722276577a2a870                 Must...fry...more...brain...cells!   \n",
       "ebb2dc04593320cf2e6af799a0f98e63  #certaincharactersthatiwontdisclosedeservedbet...   \n",
       "59fa84dcdaa951b79ef0bb4bcda2d19d                    Aw.That.Was.Nice.And.Too.Short.   \n",
       "4955188c74fbc2f4da1cbf4a1bb452e1  AAAAAAAAAAAAAAAAAAAAAAAAAAAAAAAAAAAAAAAAAAAAAA...   \n",
       "abcafee3301b08cdb4786f5995bb2f35  AAAAAAAAAAAAAAAAAAAAAAAAAAAAAAAAAAAAAAAAAAAAAA...   \n",
       "\n",
       "                                                      date_added  n_votes  \\\n",
       "review_id                                                                   \n",
       "ba7e149d70cb858d87d4113dfe0e4091  Sun Sep 30 12:29:48 -0700 2012        1   \n",
       "90529a603506931b91502b3c65b0564c  Thu May 16 23:11:00 -0700 2013        0   \n",
       "7105506d7aa373be892e6d7d29750741  Fri Mar 18 07:59:13 -0700 2016        0   \n",
       "ba4e577524730630bef88cb4c76c6dd7  Sun Aug 30 18:18:44 -0700 2015        0   \n",
       "d9d104943954cc9d975a07d1a724be90  Thu Apr 09 04:41:42 -0700 2015        3   \n",
       "a79de0fe1d6b8cb32722276577a2a870  Mon Nov 14 14:58:55 -0800 2011        0   \n",
       "ebb2dc04593320cf2e6af799a0f98e63  Sun Jul 09 16:46:56 -0700 2017        0   \n",
       "59fa84dcdaa951b79ef0bb4bcda2d19d  Tue Mar 11 10:37:14 -0700 2014        1   \n",
       "4955188c74fbc2f4da1cbf4a1bb452e1  Thu Feb 11 12:36:49 -0800 2016        1   \n",
       "abcafee3301b08cdb4786f5995bb2f35  Sat Jan 09 09:27:28 -0800 2016        1   \n",
       "\n",
       "                                  n_comments  \n",
       "review_id                                     \n",
       "ba7e149d70cb858d87d4113dfe0e4091           1  \n",
       "90529a603506931b91502b3c65b0564c           0  \n",
       "7105506d7aa373be892e6d7d29750741           0  \n",
       "ba4e577524730630bef88cb4c76c6dd7           0  \n",
       "d9d104943954cc9d975a07d1a724be90           0  \n",
       "a79de0fe1d6b8cb32722276577a2a870           0  \n",
       "ebb2dc04593320cf2e6af799a0f98e63           0  \n",
       "59fa84dcdaa951b79ef0bb4bcda2d19d           0  \n",
       "4955188c74fbc2f4da1cbf4a1bb452e1           0  \n",
       "abcafee3301b08cdb4786f5995bb2f35           0  "
      ]
     },
     "execution_count": 17,
     "metadata": {},
     "output_type": "execute_result"
    }
   ],
   "source": [
    "books_1[unapp_text].head(10)"
   ]
  },
  {
   "cell_type": "code",
   "execution_count": 20,
   "id": "eac6b59a",
   "metadata": {},
   "outputs": [],
   "source": [
    "books_1.drop(books_1[unapp_text].index, axis=0, inplace=True)"
   ]
  },
  {
   "cell_type": "code",
   "execution_count": 21,
   "id": "99df932d",
   "metadata": {},
   "outputs": [],
   "source": [
    "spoil_statement = 'spoiler alert'\n",
    "books_1['spoil'] = [True if spoil_statement in txt else False for txt in books_1['review_text']]"
   ]
  },
  {
   "cell_type": "code",
   "execution_count": 22,
   "id": "a1343e46",
   "metadata": {
    "scrolled": true
   },
   "outputs": [
    {
     "data": {
      "text/html": [
       "<div>\n",
       "<style scoped>\n",
       "    .dataframe tbody tr th:only-of-type {\n",
       "        vertical-align: middle;\n",
       "    }\n",
       "\n",
       "    .dataframe tbody tr th {\n",
       "        vertical-align: top;\n",
       "    }\n",
       "\n",
       "    .dataframe thead th {\n",
       "        text-align: right;\n",
       "    }\n",
       "</style>\n",
       "<table border=\"1\" class=\"dataframe\">\n",
       "  <thead>\n",
       "    <tr style=\"text-align: right;\">\n",
       "      <th></th>\n",
       "      <th>user_id</th>\n",
       "      <th>book_id</th>\n",
       "      <th>review_text</th>\n",
       "      <th>date_added</th>\n",
       "      <th>n_votes</th>\n",
       "      <th>n_comments</th>\n",
       "      <th>spoil</th>\n",
       "    </tr>\n",
       "    <tr>\n",
       "      <th>review_id</th>\n",
       "      <th></th>\n",
       "      <th></th>\n",
       "      <th></th>\n",
       "      <th></th>\n",
       "      <th></th>\n",
       "      <th></th>\n",
       "      <th></th>\n",
       "    </tr>\n",
       "  </thead>\n",
       "  <tbody>\n",
       "    <tr>\n",
       "      <th>e23965adda7ce7e7e415a1339e169065</th>\n",
       "      <td>8842281e1d1347389f2ab93d60773d4d</td>\n",
       "      <td>62291</td>\n",
       "      <td>** spoiler alert ** \\n Loved it. The epic saga...</td>\n",
       "      <td>Tue Jul 12 12:57:07 -0700 2011</td>\n",
       "      <td>5</td>\n",
       "      <td>1</td>\n",
       "      <td>True</td>\n",
       "    </tr>\n",
       "    <tr>\n",
       "      <th>0258b3c9a85cecb95f240e43a7642f60</th>\n",
       "      <td>8842281e1d1347389f2ab93d60773d4d</td>\n",
       "      <td>7112495</td>\n",
       "      <td>** spoiler alert ** \\n An interesting book in ...</td>\n",
       "      <td>Thu Jun 10 14:41:13 -0700 2010</td>\n",
       "      <td>7</td>\n",
       "      <td>3</td>\n",
       "      <td>True</td>\n",
       "    </tr>\n",
       "    <tr>\n",
       "      <th>d44b6d28f456dbcc5b1537b4c5572400</th>\n",
       "      <td>8842281e1d1347389f2ab93d60773d4d</td>\n",
       "      <td>6411961</td>\n",
       "      <td>** spoiler alert ** \\n Critics aside, Dan Brow...</td>\n",
       "      <td>Wed Sep 16 11:09:03 -0700 2009</td>\n",
       "      <td>3</td>\n",
       "      <td>3</td>\n",
       "      <td>True</td>\n",
       "    </tr>\n",
       "    <tr>\n",
       "      <th>d49eb786ef1d8557b9e6e86bcafd4570</th>\n",
       "      <td>8842281e1d1347389f2ab93d60773d4d</td>\n",
       "      <td>77432</td>\n",
       "      <td>** spoiler alert ** \\n I equally loved book 2,...</td>\n",
       "      <td>Tue May 05 18:08:22 -0700 2009</td>\n",
       "      <td>1</td>\n",
       "      <td>0</td>\n",
       "      <td>True</td>\n",
       "    </tr>\n",
       "    <tr>\n",
       "      <th>b8e08587ce1592d69548d0f644cb9893</th>\n",
       "      <td>8842281e1d1347389f2ab93d60773d4d</td>\n",
       "      <td>14497</td>\n",
       "      <td>** spoiler alert ** \\n Just finished this and ...</td>\n",
       "      <td>Thu Mar 27 17:53:06 -0700 2008</td>\n",
       "      <td>6</td>\n",
       "      <td>1</td>\n",
       "      <td>True</td>\n",
       "    </tr>\n",
       "    <tr>\n",
       "      <th>...</th>\n",
       "      <td>...</td>\n",
       "      <td>...</td>\n",
       "      <td>...</td>\n",
       "      <td>...</td>\n",
       "      <td>...</td>\n",
       "      <td>...</td>\n",
       "      <td>...</td>\n",
       "    </tr>\n",
       "    <tr>\n",
       "      <th>a989c818917a7463089454b356fb6671</th>\n",
       "      <td>5ff0927d425ab1a70d2b2d41fe6b96b5</td>\n",
       "      <td>13239950</td>\n",
       "      <td>** spoiler alert ** \\n Hills like White Elepha...</td>\n",
       "      <td>Wed Oct 31 18:22:50 -0700 2012</td>\n",
       "      <td>25</td>\n",
       "      <td>7</td>\n",
       "      <td>True</td>\n",
       "    </tr>\n",
       "    <tr>\n",
       "      <th>3736d5ee5904b4b5651912dd28b7ce01</th>\n",
       "      <td>a16fd6b48c6e877042acbe2bda8a0007</td>\n",
       "      <td>115076</td>\n",
       "      <td>** spoiler alert ** \\n I was completely engros...</td>\n",
       "      <td>Mon Jun 04 07:18:34 -0700 2012</td>\n",
       "      <td>0</td>\n",
       "      <td>0</td>\n",
       "      <td>True</td>\n",
       "    </tr>\n",
       "    <tr>\n",
       "      <th>a7777a1c18ab582586a61ad453d91949</th>\n",
       "      <td>692ce8eb4d5490980f6e74f6cb8671e2</td>\n",
       "      <td>12974372</td>\n",
       "      <td>** spoiler alert ** \\n Hmm...what to say about...</td>\n",
       "      <td>Wed Nov 04 12:33:22 -0800 2015</td>\n",
       "      <td>1</td>\n",
       "      <td>0</td>\n",
       "      <td>True</td>\n",
       "    </tr>\n",
       "    <tr>\n",
       "      <th>b1e1134e7e1e90725ac4237b66657de9</th>\n",
       "      <td>692ce8eb4d5490980f6e74f6cb8671e2</td>\n",
       "      <td>29044</td>\n",
       "      <td>** spoiler alert ** \\n The first two-thirds of...</td>\n",
       "      <td>Mon Nov 24 16:03:39 -0800 2014</td>\n",
       "      <td>1</td>\n",
       "      <td>3</td>\n",
       "      <td>True</td>\n",
       "    </tr>\n",
       "    <tr>\n",
       "      <th>31793e9810955194feaed3cc169e52ce</th>\n",
       "      <td>e32792a55ef11527453a96a9df5a4fc2</td>\n",
       "      <td>18512</td>\n",
       "      <td>The middle was a bit slow for me (that could o...</td>\n",
       "      <td>Wed Jun 11 07:45:03 -0700 2008</td>\n",
       "      <td>0</td>\n",
       "      <td>0</td>\n",
       "      <td>True</td>\n",
       "    </tr>\n",
       "  </tbody>\n",
       "</table>\n",
       "<p>25902 rows × 7 columns</p>\n",
       "</div>"
      ],
      "text/plain": [
       "                                                           user_id   book_id  \\\n",
       "review_id                                                                      \n",
       "e23965adda7ce7e7e415a1339e169065  8842281e1d1347389f2ab93d60773d4d     62291   \n",
       "0258b3c9a85cecb95f240e43a7642f60  8842281e1d1347389f2ab93d60773d4d   7112495   \n",
       "d44b6d28f456dbcc5b1537b4c5572400  8842281e1d1347389f2ab93d60773d4d   6411961   \n",
       "d49eb786ef1d8557b9e6e86bcafd4570  8842281e1d1347389f2ab93d60773d4d     77432   \n",
       "b8e08587ce1592d69548d0f644cb9893  8842281e1d1347389f2ab93d60773d4d     14497   \n",
       "...                                                            ...       ...   \n",
       "a989c818917a7463089454b356fb6671  5ff0927d425ab1a70d2b2d41fe6b96b5  13239950   \n",
       "3736d5ee5904b4b5651912dd28b7ce01  a16fd6b48c6e877042acbe2bda8a0007    115076   \n",
       "a7777a1c18ab582586a61ad453d91949  692ce8eb4d5490980f6e74f6cb8671e2  12974372   \n",
       "b1e1134e7e1e90725ac4237b66657de9  692ce8eb4d5490980f6e74f6cb8671e2     29044   \n",
       "31793e9810955194feaed3cc169e52ce  e32792a55ef11527453a96a9df5a4fc2     18512   \n",
       "\n",
       "                                                                        review_text  \\\n",
       "review_id                                                                             \n",
       "e23965adda7ce7e7e415a1339e169065  ** spoiler alert ** \\n Loved it. The epic saga...   \n",
       "0258b3c9a85cecb95f240e43a7642f60  ** spoiler alert ** \\n An interesting book in ...   \n",
       "d44b6d28f456dbcc5b1537b4c5572400  ** spoiler alert ** \\n Critics aside, Dan Brow...   \n",
       "d49eb786ef1d8557b9e6e86bcafd4570  ** spoiler alert ** \\n I equally loved book 2,...   \n",
       "b8e08587ce1592d69548d0f644cb9893  ** spoiler alert ** \\n Just finished this and ...   \n",
       "...                                                                             ...   \n",
       "a989c818917a7463089454b356fb6671  ** spoiler alert ** \\n Hills like White Elepha...   \n",
       "3736d5ee5904b4b5651912dd28b7ce01  ** spoiler alert ** \\n I was completely engros...   \n",
       "a7777a1c18ab582586a61ad453d91949  ** spoiler alert ** \\n Hmm...what to say about...   \n",
       "b1e1134e7e1e90725ac4237b66657de9  ** spoiler alert ** \\n The first two-thirds of...   \n",
       "31793e9810955194feaed3cc169e52ce  The middle was a bit slow for me (that could o...   \n",
       "\n",
       "                                                      date_added  n_votes  \\\n",
       "review_id                                                                   \n",
       "e23965adda7ce7e7e415a1339e169065  Tue Jul 12 12:57:07 -0700 2011        5   \n",
       "0258b3c9a85cecb95f240e43a7642f60  Thu Jun 10 14:41:13 -0700 2010        7   \n",
       "d44b6d28f456dbcc5b1537b4c5572400  Wed Sep 16 11:09:03 -0700 2009        3   \n",
       "d49eb786ef1d8557b9e6e86bcafd4570  Tue May 05 18:08:22 -0700 2009        1   \n",
       "b8e08587ce1592d69548d0f644cb9893  Thu Mar 27 17:53:06 -0700 2008        6   \n",
       "...                                                          ...      ...   \n",
       "a989c818917a7463089454b356fb6671  Wed Oct 31 18:22:50 -0700 2012       25   \n",
       "3736d5ee5904b4b5651912dd28b7ce01  Mon Jun 04 07:18:34 -0700 2012        0   \n",
       "a7777a1c18ab582586a61ad453d91949  Wed Nov 04 12:33:22 -0800 2015        1   \n",
       "b1e1134e7e1e90725ac4237b66657de9  Mon Nov 24 16:03:39 -0800 2014        1   \n",
       "31793e9810955194feaed3cc169e52ce  Wed Jun 11 07:45:03 -0700 2008        0   \n",
       "\n",
       "                                  n_comments  spoil  \n",
       "review_id                                            \n",
       "e23965adda7ce7e7e415a1339e169065           1   True  \n",
       "0258b3c9a85cecb95f240e43a7642f60           3   True  \n",
       "d44b6d28f456dbcc5b1537b4c5572400           3   True  \n",
       "d49eb786ef1d8557b9e6e86bcafd4570           0   True  \n",
       "b8e08587ce1592d69548d0f644cb9893           1   True  \n",
       "...                                      ...    ...  \n",
       "a989c818917a7463089454b356fb6671           7   True  \n",
       "3736d5ee5904b4b5651912dd28b7ce01           0   True  \n",
       "a7777a1c18ab582586a61ad453d91949           0   True  \n",
       "b1e1134e7e1e90725ac4237b66657de9           3   True  \n",
       "31793e9810955194feaed3cc169e52ce           0   True  \n",
       "\n",
       "[25902 rows x 7 columns]"
      ]
     },
     "execution_count": 22,
     "metadata": {},
     "output_type": "execute_result"
    }
   ],
   "source": [
    "books_1[books_1['spoil'] == True]"
   ]
  },
  {
   "cell_type": "markdown",
   "id": "5819a245",
   "metadata": {},
   "source": [
    "## preprocessing"
   ]
  },
  {
   "cell_type": "code",
   "execution_count": 23,
   "id": "f79e6224",
   "metadata": {},
   "outputs": [],
   "source": [
    "import nltk\n",
    "from nltk.stem import WordNetLemmatizer\n",
    "from nltk.corpus import stopwords"
   ]
  },
  {
   "cell_type": "code",
   "execution_count": 26,
   "id": "1f1dc9c5",
   "metadata": {},
   "outputs": [
    {
     "name": "stderr",
     "output_type": "stream",
     "text": [
      "[nltk_data] Downloading package wordnet to\n",
      "[nltk_data]     C:\\Users\\ckdrb\\AppData\\Roaming\\nltk_data...\n"
     ]
    },
    {
     "data": {
      "text/plain": [
       "True"
      ]
     },
     "execution_count": 26,
     "metadata": {},
     "output_type": "execute_result"
    }
   ],
   "source": [
    "#nltk.download('stopwords')\n",
    "nltk.download('wordnet')"
   ]
  },
  {
   "cell_type": "code",
   "execution_count": 27,
   "id": "79614dc7",
   "metadata": {},
   "outputs": [
    {
     "name": "stderr",
     "output_type": "stream",
     "text": [
      "100%|██████████████████████████████████████████████████████████████████████| 1361774/1361774 [12:40<00:00, 1789.87it/s]\n"
     ]
    },
    {
     "data": {
      "text/plain": [
       "review_id\n",
       "29fa19cefada517bc95e8cce9ae6c26a    review posted guilty pleasure star scrap metal...\n",
       "1546a15827f1c4a74c4653daf749ee65    strange novel alternating violet amber point v...\n",
       "eb4de8ce22b03849f4985445ef7b0908    town grimbaud love fortune real people line st...\n",
       "01ba622de7e808c5c240803ce1fe32aa    enjoyed think need happen sure ton development...\n",
       "9c7bb8a0c7632d931420bdd0ea83c05e       see review http www youtube com watch v mfinrc\n",
       "Name: review_text_tokens, dtype: object"
      ]
     },
     "execution_count": 27,
     "metadata": {},
     "output_type": "execute_result"
    }
   ],
   "source": [
    "import string\n",
    "exclist = string.punctuation + string.digits\n",
    "lamitizer = WordNetLemmatizer()\n",
    "stopwords_list = stopwords.words('english')\n",
    "\n",
    "def preprocessing_text(txt):\n",
    "    words = txt.translate(str.maketrans(exclist, ' '*len(exclist))).lower().split()\n",
    "    return (' '.join([lamitizer.lemmatize(word) for word in words if word not in stopwords_list])).strip()\n",
    "\n",
    "books_1['review_text_tokens'] = books_1['review_text'].progress_apply(preprocessing_text)\n",
    "\n",
    "books_1['review_text_tokens'].sample(5)"
   ]
  },
  {
   "cell_type": "code",
   "execution_count": 28,
   "id": "04cbe368",
   "metadata": {},
   "outputs": [
    {
     "data": {
      "text/html": [
       "<div>\n",
       "<style scoped>\n",
       "    .dataframe tbody tr th:only-of-type {\n",
       "        vertical-align: middle;\n",
       "    }\n",
       "\n",
       "    .dataframe tbody tr th {\n",
       "        vertical-align: top;\n",
       "    }\n",
       "\n",
       "    .dataframe thead th {\n",
       "        text-align: right;\n",
       "    }\n",
       "</style>\n",
       "<table border=\"1\" class=\"dataframe\">\n",
       "  <thead>\n",
       "    <tr style=\"text-align: right;\">\n",
       "      <th></th>\n",
       "      <th>user_id</th>\n",
       "      <th>book_id</th>\n",
       "      <th>review_text</th>\n",
       "      <th>date_added</th>\n",
       "      <th>n_votes</th>\n",
       "      <th>n_comments</th>\n",
       "      <th>spoil</th>\n",
       "      <th>review_text_tokens</th>\n",
       "    </tr>\n",
       "    <tr>\n",
       "      <th>review_id</th>\n",
       "      <th></th>\n",
       "      <th></th>\n",
       "      <th></th>\n",
       "      <th></th>\n",
       "      <th></th>\n",
       "      <th></th>\n",
       "      <th></th>\n",
       "      <th></th>\n",
       "    </tr>\n",
       "  </thead>\n",
       "  <tbody>\n",
       "    <tr>\n",
       "      <th>6ffb385928d33fc3ff3d14df260e742b</th>\n",
       "      <td>52a70db54c959e7164784cabc6c077da</td>\n",
       "      <td>7624</td>\n",
       "      <td>'A classic you must read' I was told. I liked ...</td>\n",
       "      <td>Sat Nov 09 11:12:25 -0800 2013</td>\n",
       "      <td>0</td>\n",
       "      <td>0</td>\n",
       "      <td>False</td>\n",
       "      <td>classic must read told liked story okay comple...</td>\n",
       "    </tr>\n",
       "    <tr>\n",
       "      <th>44fab398ff9120904e579779266826b6</th>\n",
       "      <td>6d3fdda881efbc582d1a48040ca1cf14</td>\n",
       "      <td>462033</td>\n",
       "      <td>Maisie Dobbs is setting up shop as a private i...</td>\n",
       "      <td>Thu Aug 20 14:25:34 -0700 2015</td>\n",
       "      <td>0</td>\n",
       "      <td>0</td>\n",
       "      <td>False</td>\n",
       "      <td>maisie dobbs setting shop private investigator...</td>\n",
       "    </tr>\n",
       "    <tr>\n",
       "      <th>e90d3512e17ad827053d429a8478b847</th>\n",
       "      <td>dcffeab5847efb63244722253495da06</td>\n",
       "      <td>8490112</td>\n",
       "      <td>I LOVE IT SO MUCH</td>\n",
       "      <td>Mon May 23 07:46:17 -0700 2016</td>\n",
       "      <td>14</td>\n",
       "      <td>55</td>\n",
       "      <td>False</td>\n",
       "      <td>love much</td>\n",
       "    </tr>\n",
       "    <tr>\n",
       "      <th>fb56748fd17a316bd5b7483faebc3efd</th>\n",
       "      <td>ff98cd14325115894095db0631bc6a0d</td>\n",
       "      <td>20419003</td>\n",
       "      <td>Quest Reviews \\n This is a snappy little myste...</td>\n",
       "      <td>Wed Aug 27 06:10:44 -0700 2014</td>\n",
       "      <td>0</td>\n",
       "      <td>0</td>\n",
       "      <td>False</td>\n",
       "      <td>quest review snappy little mystery romantic pa...</td>\n",
       "    </tr>\n",
       "    <tr>\n",
       "      <th>9dde6d1c3b8da9b6711f071f99182ec5</th>\n",
       "      <td>c345e85972f63c7f59ba58a308b01b4b</td>\n",
       "      <td>25460957</td>\n",
       "      <td>The plot, I like the star, because I like the ...</td>\n",
       "      <td>Tue Aug 11 12:39:43 -0700 2015</td>\n",
       "      <td>1</td>\n",
       "      <td>0</td>\n",
       "      <td>False</td>\n",
       "      <td>plot like star like thousand one night liked s...</td>\n",
       "    </tr>\n",
       "  </tbody>\n",
       "</table>\n",
       "</div>"
      ],
      "text/plain": [
       "                                                           user_id   book_id  \\\n",
       "review_id                                                                      \n",
       "6ffb385928d33fc3ff3d14df260e742b  52a70db54c959e7164784cabc6c077da      7624   \n",
       "44fab398ff9120904e579779266826b6  6d3fdda881efbc582d1a48040ca1cf14    462033   \n",
       "e90d3512e17ad827053d429a8478b847  dcffeab5847efb63244722253495da06   8490112   \n",
       "fb56748fd17a316bd5b7483faebc3efd  ff98cd14325115894095db0631bc6a0d  20419003   \n",
       "9dde6d1c3b8da9b6711f071f99182ec5  c345e85972f63c7f59ba58a308b01b4b  25460957   \n",
       "\n",
       "                                                                        review_text  \\\n",
       "review_id                                                                             \n",
       "6ffb385928d33fc3ff3d14df260e742b  'A classic you must read' I was told. I liked ...   \n",
       "44fab398ff9120904e579779266826b6  Maisie Dobbs is setting up shop as a private i...   \n",
       "e90d3512e17ad827053d429a8478b847                                  I LOVE IT SO MUCH   \n",
       "fb56748fd17a316bd5b7483faebc3efd  Quest Reviews \\n This is a snappy little myste...   \n",
       "9dde6d1c3b8da9b6711f071f99182ec5  The plot, I like the star, because I like the ...   \n",
       "\n",
       "                                                      date_added  n_votes  \\\n",
       "review_id                                                                   \n",
       "6ffb385928d33fc3ff3d14df260e742b  Sat Nov 09 11:12:25 -0800 2013        0   \n",
       "44fab398ff9120904e579779266826b6  Thu Aug 20 14:25:34 -0700 2015        0   \n",
       "e90d3512e17ad827053d429a8478b847  Mon May 23 07:46:17 -0700 2016       14   \n",
       "fb56748fd17a316bd5b7483faebc3efd  Wed Aug 27 06:10:44 -0700 2014        0   \n",
       "9dde6d1c3b8da9b6711f071f99182ec5  Tue Aug 11 12:39:43 -0700 2015        1   \n",
       "\n",
       "                                  n_comments  spoil  \\\n",
       "review_id                                             \n",
       "6ffb385928d33fc3ff3d14df260e742b           0  False   \n",
       "44fab398ff9120904e579779266826b6           0  False   \n",
       "e90d3512e17ad827053d429a8478b847          55  False   \n",
       "fb56748fd17a316bd5b7483faebc3efd           0  False   \n",
       "9dde6d1c3b8da9b6711f071f99182ec5           0  False   \n",
       "\n",
       "                                                                 review_text_tokens  \n",
       "review_id                                                                            \n",
       "6ffb385928d33fc3ff3d14df260e742b  classic must read told liked story okay comple...  \n",
       "44fab398ff9120904e579779266826b6  maisie dobbs setting shop private investigator...  \n",
       "e90d3512e17ad827053d429a8478b847                                          love much  \n",
       "fb56748fd17a316bd5b7483faebc3efd  quest review snappy little mystery romantic pa...  \n",
       "9dde6d1c3b8da9b6711f071f99182ec5  plot like star like thousand one night liked s...  "
      ]
     },
     "execution_count": 28,
     "metadata": {},
     "output_type": "execute_result"
    }
   ],
   "source": [
    "books_1.sample(5)"
   ]
  },
  {
   "cell_type": "code",
   "execution_count": 30,
   "id": "b295e670",
   "metadata": {},
   "outputs": [
    {
     "data": {
      "text/html": [
       "<div>\n",
       "<style scoped>\n",
       "    .dataframe tbody tr th:only-of-type {\n",
       "        vertical-align: middle;\n",
       "    }\n",
       "\n",
       "    .dataframe tbody tr th {\n",
       "        vertical-align: top;\n",
       "    }\n",
       "\n",
       "    .dataframe thead th {\n",
       "        text-align: right;\n",
       "    }\n",
       "</style>\n",
       "<table border=\"1\" class=\"dataframe\">\n",
       "  <thead>\n",
       "    <tr style=\"text-align: right;\">\n",
       "      <th></th>\n",
       "      <th>user_id</th>\n",
       "      <th>book_id</th>\n",
       "      <th>review_text</th>\n",
       "      <th>date_added</th>\n",
       "      <th>n_votes</th>\n",
       "      <th>n_comments</th>\n",
       "      <th>spoil</th>\n",
       "      <th>review_text_tokens</th>\n",
       "    </tr>\n",
       "    <tr>\n",
       "      <th>review_id</th>\n",
       "      <th></th>\n",
       "      <th></th>\n",
       "      <th></th>\n",
       "      <th></th>\n",
       "      <th></th>\n",
       "      <th></th>\n",
       "      <th></th>\n",
       "      <th></th>\n",
       "    </tr>\n",
       "  </thead>\n",
       "  <tbody>\n",
       "    <tr>\n",
       "      <th>79138f35d76c1cfbed4237cdd9d22bf4</th>\n",
       "      <td>4c92c78aa03db649a2623384ccfbd20e</td>\n",
       "      <td>6584188</td>\n",
       "      <td>*WILL CONTAIN SPOILERS IF YOU HAVEN'T YET READ...</td>\n",
       "      <td>2012-08-25 10:57:02+00:00</td>\n",
       "      <td>0</td>\n",
       "      <td>0</td>\n",
       "      <td>False</td>\n",
       "      <td>contain spoiler yet read first book wow actual...</td>\n",
       "    </tr>\n",
       "    <tr>\n",
       "      <th>f99d0879b2d83a88efb38269d37ee583</th>\n",
       "      <td>d600d0914c19c8048abcd9a844765df1</td>\n",
       "      <td>68527</td>\n",
       "      <td>If only the first 200 pages were like the last...</td>\n",
       "      <td>2008-10-20 07:59:10+00:00</td>\n",
       "      <td>1</td>\n",
       "      <td>0</td>\n",
       "      <td>False</td>\n",
       "      <td>first page like last really enjoy last page la...</td>\n",
       "    </tr>\n",
       "    <tr>\n",
       "      <th>e6fb81ac0cbbb3e07132fdb87e5431f9</th>\n",
       "      <td>74b654d4400cdc67318b6889aaf6e2f9</td>\n",
       "      <td>10915</td>\n",
       "      <td>Salem Falls is easily one of my favorite Jodi ...</td>\n",
       "      <td>2009-03-25 00:33:28+00:00</td>\n",
       "      <td>9</td>\n",
       "      <td>1</td>\n",
       "      <td>False</td>\n",
       "      <td>salem fall easily one favorite jodi picoult bo...</td>\n",
       "    </tr>\n",
       "    <tr>\n",
       "      <th>2bee455e970483965f35ccbec885fe52</th>\n",
       "      <td>f30a6ede96a04305af67e6443da04ad8</td>\n",
       "      <td>736301</td>\n",
       "      <td>Quite possible one of the best books I've ever...</td>\n",
       "      <td>2012-11-08 14:16:35+00:00</td>\n",
       "      <td>2</td>\n",
       "      <td>0</td>\n",
       "      <td>False</td>\n",
       "      <td>quite possible one best book ever read need sp...</td>\n",
       "    </tr>\n",
       "    <tr>\n",
       "      <th>d6aaec6eeafd27916c4c4b7ce85a8a1d</th>\n",
       "      <td>480b6a5bec1a4e2f16805a240482c023</td>\n",
       "      <td>10814946</td>\n",
       "      <td>OH MY GOD THIS BOOK I ONLY READ IT IN JUST ONE...</td>\n",
       "      <td>2013-07-21 00:09:39+00:00</td>\n",
       "      <td>0</td>\n",
       "      <td>0</td>\n",
       "      <td>False</td>\n",
       "      <td>oh god book read one day night couldnt put ser...</td>\n",
       "    </tr>\n",
       "  </tbody>\n",
       "</table>\n",
       "</div>"
      ],
      "text/plain": [
       "                                                           user_id   book_id  \\\n",
       "review_id                                                                      \n",
       "79138f35d76c1cfbed4237cdd9d22bf4  4c92c78aa03db649a2623384ccfbd20e   6584188   \n",
       "f99d0879b2d83a88efb38269d37ee583  d600d0914c19c8048abcd9a844765df1     68527   \n",
       "e6fb81ac0cbbb3e07132fdb87e5431f9  74b654d4400cdc67318b6889aaf6e2f9     10915   \n",
       "2bee455e970483965f35ccbec885fe52  f30a6ede96a04305af67e6443da04ad8    736301   \n",
       "d6aaec6eeafd27916c4c4b7ce85a8a1d  480b6a5bec1a4e2f16805a240482c023  10814946   \n",
       "\n",
       "                                                                        review_text  \\\n",
       "review_id                                                                             \n",
       "79138f35d76c1cfbed4237cdd9d22bf4  *WILL CONTAIN SPOILERS IF YOU HAVEN'T YET READ...   \n",
       "f99d0879b2d83a88efb38269d37ee583  If only the first 200 pages were like the last...   \n",
       "e6fb81ac0cbbb3e07132fdb87e5431f9  Salem Falls is easily one of my favorite Jodi ...   \n",
       "2bee455e970483965f35ccbec885fe52  Quite possible one of the best books I've ever...   \n",
       "d6aaec6eeafd27916c4c4b7ce85a8a1d  OH MY GOD THIS BOOK I ONLY READ IT IN JUST ONE...   \n",
       "\n",
       "                                                date_added  n_votes  \\\n",
       "review_id                                                             \n",
       "79138f35d76c1cfbed4237cdd9d22bf4 2012-08-25 10:57:02+00:00        0   \n",
       "f99d0879b2d83a88efb38269d37ee583 2008-10-20 07:59:10+00:00        1   \n",
       "e6fb81ac0cbbb3e07132fdb87e5431f9 2009-03-25 00:33:28+00:00        9   \n",
       "2bee455e970483965f35ccbec885fe52 2012-11-08 14:16:35+00:00        2   \n",
       "d6aaec6eeafd27916c4c4b7ce85a8a1d 2013-07-21 00:09:39+00:00        0   \n",
       "\n",
       "                                  n_comments  spoil  \\\n",
       "review_id                                             \n",
       "79138f35d76c1cfbed4237cdd9d22bf4           0  False   \n",
       "f99d0879b2d83a88efb38269d37ee583           0  False   \n",
       "e6fb81ac0cbbb3e07132fdb87e5431f9           1  False   \n",
       "2bee455e970483965f35ccbec885fe52           0  False   \n",
       "d6aaec6eeafd27916c4c4b7ce85a8a1d           0  False   \n",
       "\n",
       "                                                                 review_text_tokens  \n",
       "review_id                                                                            \n",
       "79138f35d76c1cfbed4237cdd9d22bf4  contain spoiler yet read first book wow actual...  \n",
       "f99d0879b2d83a88efb38269d37ee583  first page like last really enjoy last page la...  \n",
       "e6fb81ac0cbbb3e07132fdb87e5431f9  salem fall easily one favorite jodi picoult bo...  \n",
       "2bee455e970483965f35ccbec885fe52  quite possible one best book ever read need sp...  \n",
       "d6aaec6eeafd27916c4c4b7ce85a8a1d  oh god book read one day night couldnt put ser...  "
      ]
     },
     "execution_count": 30,
     "metadata": {},
     "output_type": "execute_result"
    }
   ],
   "source": [
    "datetime_format = '%a %b %d %H:%M:%S %z %Y'\n",
    "books_1['date_added'] = pd.to_datetime(books['date_added'], format=datetime_format, utc = True)\n",
    "books_1.sample(5)"
   ]
  },
  {
   "cell_type": "code",
   "execution_count": 32,
   "id": "07edce14",
   "metadata": {},
   "outputs": [
    {
     "data": {
      "text/plain": [
       "<AxesSubplot:title={'center':'10 Date with most reviews'}, xlabel='dates', ylabel='count'>"
      ]
     },
     "execution_count": 32,
     "metadata": {},
     "output_type": "execute_result"
    },
    {
     "data": {
      "image/png": "[encoded data removed]",
      "text/plain": [
       "<Figure size 720x576 with 1 Axes>"
      ]
     },
     "metadata": {
      "needs_background": "light"
     },
     "output_type": "display_data"
    }
   ],
   "source": [
    "books_dates_added = books_1['date_added'].dt.date\n",
    "books_dates_added.value_counts()[:10].plot(kind = 'bar',\n",
    "                                             figsize=(10,8),\n",
    "                                             title='10 Date with most reviews',\n",
    "                                             xlabel='dates',\n",
    "                                             ylabel='count')"
   ]
  },
  {
   "cell_type": "code",
   "execution_count": 36,
   "id": "32e5d0a7",
   "metadata": {},
   "outputs": [
    {
     "data": {
      "text/plain": [
       "<AxesSubplot:title={'center':'Number of rating action in months of all years'}, xlabel='Month of week', ylabel='Count'>"
      ]
     },
     "execution_count": 36,
     "metadata": {},
     "output_type": "execute_result"
    },
    {
     "data": {
      "image/png": "[encoded data removed]",
      "text/plain": [
       "<Figure size 936x576 with 1 Axes>"
      ]
     },
     "metadata": {
      "needs_background": "light"
     },
     "output_type": "display_data"
    }
   ],
   "source": [
    "plt.figure(figsize=(10, 8))\n",
    "plt.title(\"Number of rating action in days of all weeks\")\n",
    "plt.xlabel(\"Day of week\")\n",
    "plt.ylabel(\"Count\")\n",
    "sns.histplot(books_1['date_added'].dt.day_name())"
   ]
  },
  {
   "cell_type": "code",
   "execution_count": 38,
   "id": "850dbdd4",
   "metadata": {},
   "outputs": [
    {
     "data": {
      "text/plain": [
       "<AxesSubplot:title={'center':'Number of rating action in months of all years'}, xlabel='Month of week', ylabel='Count'>"
      ]
     },
     "execution_count": 38,
     "metadata": {},
     "output_type": "execute_result"
    },
    {
     "data": {
      "image/png": "[encoded data removed]",
      "text/plain": [
       "<Figure size 936x576 with 1 Axes>"
      ]
     },
     "metadata": {
      "needs_background": "light"
     },
     "output_type": "display_data"
    }
   ],
   "source": [
    "plt.figure(figsize=(13, 8))\n",
    "plt.title(\"Number of rating action in months of all years\")\n",
    "plt.xlabel(\"Month of week\")\n",
    "plt.ylabel(\"Count\")\n",
    "sns.histplot(books_1['date_added'].dt.month_name())"
   ]
  },
  {
   "cell_type": "code",
   "execution_count": 39,
   "id": "b5c8ff71",
   "metadata": {},
   "outputs": [
    {
     "data": {
      "text/plain": [
       "<AxesSubplot:title={'center':'10 books with the most reviews'}, xlabel='book id', ylabel='number of reviews'>"
      ]
     },
     "execution_count": 39,
     "metadata": {},
     "output_type": "execute_result"
    },
    {
     "data": {
      "image/png": "[encoded data removed]",
      "text/plain": [
       "<Figure size 720x576 with 1 Axes>"
      ]
     },
     "metadata": {
      "needs_background": "light"
     },
     "output_type": "display_data"
    }
   ],
   "source": [
    "books_1.groupby('book_id').count().sort_values(by='user_id', ascending=False)['user_id'][:10].plot(kind='bar', figsize=(10,8),title='10 books with the most reviews', xlabel='book id', ylabel='number of reviews')"
   ]
  },
  {
   "cell_type": "code",
   "execution_count": 40,
   "id": "67226a56",
   "metadata": {},
   "outputs": [
    {
     "data": {
      "text/plain": [
       "<AxesSubplot:title={'center':'10 users with the most reviews'}, xlabel='User id', ylabel='Number of reviews'>"
      ]
     },
     "execution_count": 40,
     "metadata": {},
     "output_type": "execute_result"
    },
    {
     "data": {
      "image/png": "[encoded data removed]",
      "text/plain": [
       "<Figure size 720x576 with 1 Axes>"
      ]
     },
     "metadata": {
      "needs_background": "light"
     },
     "output_type": "display_data"
    }
   ],
   "source": [
    "books_1.groupby('user_id').count().sort_values(by='book_id', ascending=False)['book_id'][:10].plot(kind='bar',figsize=(10, 8),title='10 users with the most reviews',xlabel='User id',ylabel='Number of reviews')"
   ]
  },
  {
   "cell_type": "code",
   "execution_count": 41,
   "id": "42784ac4",
   "metadata": {},
   "outputs": [
    {
     "data": {
      "text/plain": [
       "<AxesSubplot:title={'center':'Number of Spoilers Vs. NO Spoilers'}, xlabel='Tags', ylabel='Count'>"
      ]
     },
     "execution_count": 41,
     "metadata": {},
     "output_type": "execute_result"
    },
    {
     "data": {
      "image/png": "[encoded data removed]",
      "text/plain": [
       "<Figure size 720x576 with 1 Axes>"
      ]
     },
     "metadata": {
      "needs_background": "light"
     },
     "output_type": "display_data"
    }
   ],
   "source": [
    "books_1['spoil'].value_counts().plot(kind='bar',figsize=(10, 8),title='Number of Spoilers Vs. NO Spoilers',xlabel='Tags',ylabel='Count')"
   ]
  },
  {
   "cell_type": "code",
   "execution_count": 42,
   "id": "eb4707a1",
   "metadata": {},
   "outputs": [
    {
     "data": {
      "text/plain": [
       "review_id\n",
       "7f940a87528a74d0cda71c1a1adf66d7    3\n",
       "633e896872a75a7eedee88048990779d    5\n",
       "a4d753ac6eb7cb12a702180ed4f20dcf    4\n",
       "9fc26fb8797500b09412bc8317caad50    3\n",
       "909464453e166016c6fb7fc512de64d1    4\n",
       "Name: rating, dtype: int64"
      ]
     },
     "execution_count": 42,
     "metadata": {},
     "output_type": "execute_result"
    }
   ],
   "source": [
    "books_rates.sample(5)"
   ]
  },
  {
   "cell_type": "code",
   "execution_count": 44,
   "id": "c9cc33d8",
   "metadata": {},
   "outputs": [
    {
     "data": {
      "text/html": [
       "<div>\n",
       "<style scoped>\n",
       "    .dataframe tbody tr th:only-of-type {\n",
       "        vertical-align: middle;\n",
       "    }\n",
       "\n",
       "    .dataframe tbody tr th {\n",
       "        vertical-align: top;\n",
       "    }\n",
       "\n",
       "    .dataframe thead th {\n",
       "        text-align: right;\n",
       "    }\n",
       "</style>\n",
       "<table border=\"1\" class=\"dataframe\">\n",
       "  <thead>\n",
       "    <tr style=\"text-align: right;\">\n",
       "      <th></th>\n",
       "      <th>user_id</th>\n",
       "      <th>book_id</th>\n",
       "      <th>review_text</th>\n",
       "      <th>date_added</th>\n",
       "      <th>n_votes</th>\n",
       "      <th>n_comments</th>\n",
       "      <th>spoil</th>\n",
       "      <th>review_text_tokens</th>\n",
       "      <th>rating</th>\n",
       "    </tr>\n",
       "    <tr>\n",
       "      <th>review_id</th>\n",
       "      <th></th>\n",
       "      <th></th>\n",
       "      <th></th>\n",
       "      <th></th>\n",
       "      <th></th>\n",
       "      <th></th>\n",
       "      <th></th>\n",
       "      <th></th>\n",
       "      <th></th>\n",
       "    </tr>\n",
       "  </thead>\n",
       "  <tbody>\n",
       "    <tr>\n",
       "      <th>25ae7ecaf578fb050bc51939ff99ed99</th>\n",
       "      <td>8b4598ce3fb568275e109576d0b1be9b</td>\n",
       "      <td>26109391</td>\n",
       "      <td>Easily one of the best books I've read for 2016!</td>\n",
       "      <td>2016-04-23 00:07:29+00:00</td>\n",
       "      <td>1</td>\n",
       "      <td>0</td>\n",
       "      <td>False</td>\n",
       "      <td>easily one best book read</td>\n",
       "      <td>5</td>\n",
       "    </tr>\n",
       "    <tr>\n",
       "      <th>1401714686a6de5c035dff3bd0e71159</th>\n",
       "      <td>1fc58f53eb67bcf6c78af62087697449</td>\n",
       "      <td>21457243</td>\n",
       "      <td>This series is so good and gets better with ev...</td>\n",
       "      <td>2014-04-08 23:06:51+00:00</td>\n",
       "      <td>0</td>\n",
       "      <td>0</td>\n",
       "      <td>False</td>\n",
       "      <td>series good get better every book book tension...</td>\n",
       "      <td>5</td>\n",
       "    </tr>\n",
       "    <tr>\n",
       "      <th>6ad4860ae762899254a3455d8c0e7cc1</th>\n",
       "      <td>e9decb6ba786ca17bf66a7cfb94bac22</td>\n",
       "      <td>26116496</td>\n",
       "      <td>Find this review and more at Ramblings From Th...</td>\n",
       "      <td>2016-01-21 18:06:13+00:00</td>\n",
       "      <td>0</td>\n",
       "      <td>0</td>\n",
       "      <td>False</td>\n",
       "      <td>find review ramblings chick last time u first ...</td>\n",
       "      <td>2</td>\n",
       "    </tr>\n",
       "  </tbody>\n",
       "</table>\n",
       "</div>"
      ],
      "text/plain": [
       "                                                           user_id   book_id  \\\n",
       "review_id                                                                      \n",
       "25ae7ecaf578fb050bc51939ff99ed99  8b4598ce3fb568275e109576d0b1be9b  26109391   \n",
       "1401714686a6de5c035dff3bd0e71159  1fc58f53eb67bcf6c78af62087697449  21457243   \n",
       "6ad4860ae762899254a3455d8c0e7cc1  e9decb6ba786ca17bf66a7cfb94bac22  26116496   \n",
       "\n",
       "                                                                        review_text  \\\n",
       "review_id                                                                             \n",
       "25ae7ecaf578fb050bc51939ff99ed99   Easily one of the best books I've read for 2016!   \n",
       "1401714686a6de5c035dff3bd0e71159  This series is so good and gets better with ev...   \n",
       "6ad4860ae762899254a3455d8c0e7cc1  Find this review and more at Ramblings From Th...   \n",
       "\n",
       "                                                date_added  n_votes  \\\n",
       "review_id                                                             \n",
       "25ae7ecaf578fb050bc51939ff99ed99 2016-04-23 00:07:29+00:00        1   \n",
       "1401714686a6de5c035dff3bd0e71159 2014-04-08 23:06:51+00:00        0   \n",
       "6ad4860ae762899254a3455d8c0e7cc1 2016-01-21 18:06:13+00:00        0   \n",
       "\n",
       "                                  n_comments  spoil  \\\n",
       "review_id                                             \n",
       "25ae7ecaf578fb050bc51939ff99ed99           0  False   \n",
       "1401714686a6de5c035dff3bd0e71159           0  False   \n",
       "6ad4860ae762899254a3455d8c0e7cc1           0  False   \n",
       "\n",
       "                                                                 review_text_tokens  \\\n",
       "review_id                                                                             \n",
       "25ae7ecaf578fb050bc51939ff99ed99                          easily one best book read   \n",
       "1401714686a6de5c035dff3bd0e71159  series good get better every book book tension...   \n",
       "6ad4860ae762899254a3455d8c0e7cc1  find review ramblings chick last time u first ...   \n",
       "\n",
       "                                  rating  \n",
       "review_id                                 \n",
       "25ae7ecaf578fb050bc51939ff99ed99       5  \n",
       "1401714686a6de5c035dff3bd0e71159       5  \n",
       "6ad4860ae762899254a3455d8c0e7cc1       2  "
      ]
     },
     "execution_count": 44,
     "metadata": {},
     "output_type": "execute_result"
    }
   ],
   "source": [
    "clean_books_rate = books_1.merge(books_rates, how='inner', on='review_id')\n",
    "clean_books_rate.sample(3)"
   ]
  },
  {
   "cell_type": "code",
   "execution_count": 45,
   "id": "4cceb98d",
   "metadata": {},
   "outputs": [
    {
     "data": {
      "text/plain": [
       "<AxesSubplot:title={'center':'The Number of each rate'}, xlabel='Rate', ylabel='Count'>"
      ]
     },
     "execution_count": 45,
     "metadata": {},
     "output_type": "execute_result"
    },
    {
     "data": {
      "image/png": "[encoded data removed]",
      "text/plain": [
       "<Figure size 720x576 with 1 Axes>"
      ]
     },
     "metadata": {
      "needs_background": "light"
     },
     "output_type": "display_data"
    }
   ],
   "source": [
    "clean_books_rate['rating'].value_counts().plot(kind='bar', figsize=(10, 8),title='The Number of each rate',xlabel='Rate',ylabel='Count')"
   ]
  },
  {
   "cell_type": "code",
   "execution_count": 46,
   "id": "09e8d2a5",
   "metadata": {},
   "outputs": [
    {
     "data": {
      "text/plain": [
       "<AxesSubplot:title={'center':'The Mean of rateing per book'}, ylabel='Frequency'>"
      ]
     },
     "execution_count": 46,
     "metadata": {},
     "output_type": "execute_result"
    },
    {
     "data": {
      "image/png": "[encoded data removed]",
      "text/plain": [
       "<Figure size 720x576 with 1 Axes>"
      ]
     },
     "metadata": {
      "needs_background": "light"
     },
     "output_type": "display_data"
    }
   ],
   "source": [
    "clean_books_rate.groupby(by='book_id').mean()['rating'].plot(kind='hist',figsize=(10, 8),title='The Mean of rateing per book',xlabel='Value',bins=100, legend=True)"
   ]
  },
  {
   "cell_type": "code",
   "execution_count": 47,
   "id": "bd238d2d",
   "metadata": {},
   "outputs": [
    {
     "data": {
      "text/plain": [
       "<AxesSubplot:title={'center':'The STD of rateing per book'}, ylabel='Frequency'>"
      ]
     },
     "execution_count": 47,
     "metadata": {},
     "output_type": "execute_result"
    },
    {
     "data": {
      "image/png": "[encoded data removed]",
      "text/plain": [
       "<Figure size 720x576 with 1 Axes>"
      ]
     },
     "metadata": {
      "needs_background": "light"
     },
     "output_type": "display_data"
    }
   ],
   "source": [
    "clean_books_rate.groupby(by='book_id').std()['rating'].plot(kind='hist', figsize=(10, 8),title='The STD of rateing per book',xlabel='Value',bins=100, legend=True)"
   ]
  },
  {
   "cell_type": "markdown",
   "id": "f8482709",
   "metadata": {},
   "source": [
    "## ML"
   ]
  },
  {
   "cell_type": "code",
   "execution_count": 53,
   "id": "30e634dc",
   "metadata": {},
   "outputs": [],
   "source": [
    "from sklearn.linear_model import LogisticRegression, SGDClassifier\n",
    "from sklearn.naive_bayes import MultinomialNB\n",
    "# from xgboost import XGBClassifier\n",
    "from sklearn.model_selection import train_test_split\n",
    "from sklearn.feature_extraction.text import TfidfVectorizer\n",
    "from sklearn.metrics import classification_report, confusion_matrix"
   ]
  },
  {
   "cell_type": "code",
   "execution_count": 48,
   "id": "786c6fb1",
   "metadata": {},
   "outputs": [],
   "source": [
    "df = clean_books_rate[['review_text_tokens','rating']]"
   ]
  },
  {
   "cell_type": "code",
   "execution_count": 49,
   "id": "49a00829",
   "metadata": {},
   "outputs": [
    {
     "data": {
      "text/html": [
       "<div>\n",
       "<style scoped>\n",
       "    .dataframe tbody tr th:only-of-type {\n",
       "        vertical-align: middle;\n",
       "    }\n",
       "\n",
       "    .dataframe tbody tr th {\n",
       "        vertical-align: top;\n",
       "    }\n",
       "\n",
       "    .dataframe thead th {\n",
       "        text-align: right;\n",
       "    }\n",
       "</style>\n",
       "<table border=\"1\" class=\"dataframe\">\n",
       "  <thead>\n",
       "    <tr style=\"text-align: right;\">\n",
       "      <th></th>\n",
       "      <th>review_text_tokens</th>\n",
       "      <th>rating</th>\n",
       "    </tr>\n",
       "    <tr>\n",
       "      <th>review_id</th>\n",
       "      <th></th>\n",
       "      <th></th>\n",
       "    </tr>\n",
       "  </thead>\n",
       "  <tbody>\n",
       "    <tr>\n",
       "      <th>a79624e135070e09ff1b18cce5fec11f</th>\n",
       "      <td>star book love good cinder main reason back fo...</td>\n",
       "      <td>5</td>\n",
       "    </tr>\n",
       "    <tr>\n",
       "      <th>3fd14edbab25715cf731415ed0bf1fa2</th>\n",
       "      <td>delightful child book subverts many fantasy st...</td>\n",
       "      <td>5</td>\n",
       "    </tr>\n",
       "    <tr>\n",
       "      <th>7cff6c4d69f8cb4935acd2d17c25bb2e</th>\n",
       "      <td>idea pulled boarding school ghost yay really get</td>\n",
       "      <td>2</td>\n",
       "    </tr>\n",
       "    <tr>\n",
       "      <th>669f585c2b6a389ab0271c54ce28a93f</th>\n",
       "      <td>good book love think world seems unrealistic f...</td>\n",
       "      <td>3</td>\n",
       "    </tr>\n",
       "    <tr>\n",
       "      <th>fb068336ec8d6f652aae5219d962f355</th>\n",
       "      <td>section pretty standard pretty average enterta...</td>\n",
       "      <td>3</td>\n",
       "    </tr>\n",
       "  </tbody>\n",
       "</table>\n",
       "</div>"
      ],
      "text/plain": [
       "                                                                 review_text_tokens  \\\n",
       "review_id                                                                             \n",
       "a79624e135070e09ff1b18cce5fec11f  star book love good cinder main reason back fo...   \n",
       "3fd14edbab25715cf731415ed0bf1fa2  delightful child book subverts many fantasy st...   \n",
       "7cff6c4d69f8cb4935acd2d17c25bb2e   idea pulled boarding school ghost yay really get   \n",
       "669f585c2b6a389ab0271c54ce28a93f  good book love think world seems unrealistic f...   \n",
       "fb068336ec8d6f652aae5219d962f355  section pretty standard pretty average enterta...   \n",
       "\n",
       "                                  rating  \n",
       "review_id                                 \n",
       "a79624e135070e09ff1b18cce5fec11f       5  \n",
       "3fd14edbab25715cf731415ed0bf1fa2       5  \n",
       "7cff6c4d69f8cb4935acd2d17c25bb2e       2  \n",
       "669f585c2b6a389ab0271c54ce28a93f       3  \n",
       "fb068336ec8d6f652aae5219d962f355       3  "
      ]
     },
     "execution_count": 49,
     "metadata": {},
     "output_type": "execute_result"
    }
   ],
   "source": [
    "df.sample(5)"
   ]
  },
  {
   "cell_type": "code",
   "execution_count": 50,
   "id": "53c75f6b",
   "metadata": {},
   "outputs": [],
   "source": [
    "mini_df  = df.sample(10000)"
   ]
  },
  {
   "cell_type": "code",
   "execution_count": 51,
   "id": "49f918a1",
   "metadata": {},
   "outputs": [],
   "source": [
    "X = mini_df['review_text_tokens']\n",
    "y = mini_df['rating']"
   ]
  },
  {
   "cell_type": "code",
   "execution_count": 54,
   "id": "30f6a902",
   "metadata": {},
   "outputs": [],
   "source": [
    "X_train, X_val, y_train, y_val = train_test_split(X,y, test_size=0.2, shuffle=True, random_state=404)"
   ]
  },
  {
   "cell_type": "code",
   "execution_count": 55,
   "id": "5bd3b64c",
   "metadata": {},
   "outputs": [
    {
     "name": "stdout",
     "output_type": "stream",
     "text": [
      "X Train set size:  (8000,)\n",
      "X Validation set size:  (2000,)\n"
     ]
    }
   ],
   "source": [
    "print('X Train set size: ', X_train.shape)\n",
    "print('X Validation set size: ', X_val.shape)"
   ]
  },
  {
   "cell_type": "code",
   "execution_count": 56,
   "id": "4f33a547",
   "metadata": {},
   "outputs": [
    {
     "name": "stdout",
     "output_type": "stream",
     "text": [
      "Y Train set size:  (8000,)\n",
      "Y Validation set size:  (2000,)\n"
     ]
    }
   ],
   "source": [
    "print('Y Train set size: ', y_train.shape)\n",
    "print('Y Validation set size: ', y_val.shape)"
   ]
  },
  {
   "cell_type": "code",
   "execution_count": 58,
   "id": "c2cb4b24",
   "metadata": {},
   "outputs": [],
   "source": [
    "tfidf_vectorizer = TfidfVectorizer(use_idf=True)\n",
    "\n",
    "X_train_vectors = tfidf_vectorizer.fit_transform(X_train)\n",
    "X_val_vectors = tfidf_vectorizer.transform(X_val)"
   ]
  },
  {
   "cell_type": "code",
   "execution_count": 59,
   "id": "4535f268",
   "metadata": {},
   "outputs": [
    {
     "name": "stdout",
     "output_type": "stream",
     "text": [
      "(8000, 31152)\n",
      "(2000, 31152)\n"
     ]
    }
   ],
   "source": [
    "print(X_train_vectors.shape)\n",
    "print(X_val_vectors.shape)"
   ]
  },
  {
   "cell_type": "markdown",
   "id": "c7de55b1",
   "metadata": {},
   "source": [
    "## Logistic Regression"
   ]
  },
  {
   "cell_type": "code",
   "execution_count": 62,
   "id": "20cc8e49",
   "metadata": {},
   "outputs": [
    {
     "data": {
      "text/plain": [
       "LogisticRegression(C=10, solver='liblinear')"
      ]
     },
     "execution_count": 62,
     "metadata": {},
     "output_type": "execute_result"
    }
   ],
   "source": [
    "lr_model = LogisticRegression(solver = 'liblinear', C=10, penalty = 'l2')\n",
    "lr_model.fit(X_train_vectors, y_train)"
   ]
  },
  {
   "cell_type": "code",
   "execution_count": 63,
   "id": "4eefc25a",
   "metadata": {},
   "outputs": [],
   "source": [
    "y_predict = lr_model.predict(X_val_vectors)\n",
    "y_prob = lr_model.predict_proba(X_val_vectors)[:,1]"
   ]
  },
  {
   "cell_type": "code",
   "execution_count": 65,
   "id": "eb2e66a6",
   "metadata": {},
   "outputs": [
    {
     "name": "stdout",
     "output_type": "stream",
     "text": [
      "test accuracy 0.4325\n",
      "------------------------------------------------------------\n",
      "              precision    recall  f1-score   support\n",
      "\n",
      "           0       0.35      0.09      0.14        70\n",
      "           1       0.53      0.16      0.24        57\n",
      "           2       0.40      0.17      0.23       163\n",
      "           3       0.34      0.33      0.33       422\n",
      "           4       0.40      0.48      0.43       690\n",
      "           5       0.53      0.59      0.56       598\n",
      "\n",
      "    accuracy                           0.43      2000\n",
      "   macro avg       0.43      0.30      0.32      2000\n",
      "weighted avg       0.43      0.43      0.42      2000\n",
      "\n",
      "------------------------------------------------------------\n",
      "Confusion Matrix: [[  6   3   3  11  31  16]\n",
      " [  3   9   8  12  12  13]\n",
      " [  3   2  27  66  54  11]\n",
      " [  2   0  21 139 202  58]\n",
      " [  2   1   8 138 329 212]\n",
      " [  1   2   1  42 197 355]]\n"
     ]
    }
   ],
   "source": [
    "print(\"test accuracy\", str(numpy.mean(y_val == y_predict)))\n",
    "print(\"-\"*60)\n",
    "print(classification_report(y_val,y_predict))\n",
    "print(\"-\"*60)\n",
    "print('Confusion Matrix:',confusion_matrix(y_val, y_predict))"
   ]
  },
  {
   "cell_type": "code",
   "execution_count": 66,
   "id": "d1e81b82",
   "metadata": {},
   "outputs": [
    {
     "data": {
      "text/plain": [
       "MultinomialNB()"
      ]
     },
     "execution_count": 66,
     "metadata": {},
     "output_type": "execute_result"
    }
   ],
   "source": [
    "multiNB_model = MultinomialNB()\n",
    "multiNB_model.fit(X_train_vectors, y_train)"
   ]
  },
  {
   "cell_type": "code",
   "execution_count": 67,
   "id": "18944937",
   "metadata": {},
   "outputs": [
    {
     "name": "stdout",
     "output_type": "stream",
     "text": [
      "test accuracy 0.3975\n",
      "------------------------------------------------------------\n",
      "              precision    recall  f1-score   support\n",
      "\n",
      "           0       0.00      0.00      0.00        70\n",
      "           1       0.00      0.00      0.00        57\n",
      "           2       0.00      0.00      0.00       163\n",
      "           3       0.00      0.00      0.00       422\n",
      "           4       0.36      0.92      0.52       690\n",
      "           5       0.69      0.27      0.38       598\n",
      "\n",
      "    accuracy                           0.40      2000\n",
      "   macro avg       0.17      0.20      0.15      2000\n",
      "weighted avg       0.33      0.40      0.29      2000\n",
      "\n",
      "------------------------------------------------------------\n",
      "Confusion Matrix: [[  0   0   0   0  63   7]\n",
      " [  0   0   0   0  53   4]\n",
      " [  0   0   0   1 161   1]\n",
      " [  0   0   0   0 415   7]\n",
      " [  0   0   0   0 636  54]\n",
      " [  0   0   0   0 439 159]]\n"
     ]
    }
   ],
   "source": [
    "y_predict = multiNB_model.predict(X_val_vectors)\n",
    "y_prob = multiNB_model.predict_proba(X_val_vectors)[:,1]\n",
    "\n",
    "print(\"test accuracy\", str(numpy.mean(y_val == y_predict)))\n",
    "print(\"-\"*60)\n",
    "print(classification_report(y_val,y_predict))\n",
    "print(\"-\"*60)\n",
    "print('Confusion Matrix:',confusion_matrix(y_val, y_predict))"
   ]
  },
  {
   "cell_type": "code",
   "execution_count": 68,
   "id": "88eeebbb",
   "metadata": {},
   "outputs": [
    {
     "data": {
      "text/plain": [
       "SGDClassifier(alpha=0.001, random_state=404)"
      ]
     },
     "execution_count": 68,
     "metadata": {},
     "output_type": "execute_result"
    }
   ],
   "source": [
    "sgd_model = SGDClassifier(loss='hinge', penalty='l2', alpha=1e-3, random_state=404)\n",
    "sgd_model.fit(X_train_vectors, y_train)"
   ]
  },
  {
   "cell_type": "code",
   "execution_count": 69,
   "id": "88a306d4",
   "metadata": {},
   "outputs": [
    {
     "name": "stdout",
     "output_type": "stream",
     "text": [
      "test accuracy 0.445\n",
      "------------------------------------------------------------\n",
      "              precision    recall  f1-score   support\n",
      "\n",
      "           0       0.35      0.10      0.16        70\n",
      "           1       0.36      0.09      0.14        57\n",
      "           2       0.37      0.09      0.14       163\n",
      "           3       0.36      0.25      0.30       422\n",
      "           4       0.44      0.42      0.43       690\n",
      "           5       0.48      0.78      0.60       598\n",
      "\n",
      "    accuracy                           0.45      2000\n",
      "   macro avg       0.39      0.29      0.29      2000\n",
      "weighted avg       0.42      0.45      0.41      2000\n",
      "\n",
      "------------------------------------------------------------\n",
      "Confusion Matrix: [[  7   3   4   9  17  30]\n",
      " [  3   5   4  12   9  24]\n",
      " [  4   3  14  61  50  31]\n",
      " [  2   1  13 106 190 110]\n",
      " [  4   2   3  85 289 307]\n",
      " [  0   0   0  20 109 469]]\n"
     ]
    }
   ],
   "source": [
    "y_predict = sgd_model.predict(X_val_vectors)\n",
    "\n",
    "print(\"test accuracy\", str(numpy.mean(y_val == y_predict)))\n",
    "print(\"-\"*60)\n",
    "print(classification_report(y_val,y_predict))\n",
    "print(\"-\"*60)\n",
    "print('Confusion Matrix:',confusion_matrix(y_val, y_predict))"
   ]
  },
  {
   "cell_type": "markdown",
   "id": "a89a0ebc",
   "metadata": {},
   "source": [
    "## Xgboost는 나중에"
   ]
  },
  {
   "cell_type": "code",
   "execution_count": null,
   "id": "2978a793",
   "metadata": {},
   "outputs": [],
   "source": []
  }
 ],
 "metadata": {
  "kernelspec": {
   "display_name": "Python 3 (ipykernel)",
   "language": "python",
   "name": "python3"
  },
  "language_info": {
   "codemirror_mode": {
    "name": "ipython",
    "version": 3
   },
   "file_extension": ".py",
   "mimetype": "text/x-python",
   "name": "python",
   "nbconvert_exporter": "python",
   "pygments_lexer": "ipython3",
   "version": "3.9.7"
  }
 },
 "nbformat": 4,
 "nbformat_minor": 5
}
